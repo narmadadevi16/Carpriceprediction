{
 "cells": [
  {
   "cell_type": "code",
   "execution_count": 1,
   "metadata": {
    "execution": {
     "iopub.execute_input": "2022-01-30T10:58:09.866194Z",
     "iopub.status.busy": "2022-01-30T10:58:09.865571Z",
     "iopub.status.idle": "2022-01-30T10:58:11.104334Z",
     "shell.execute_reply": "2022-01-30T10:58:11.103643Z",
     "shell.execute_reply.started": "2022-01-30T10:52:24.482004Z"
    },
    "papermill": {
     "duration": 1.296939,
     "end_time": "2022-01-30T10:58:11.104501",
     "exception": false,
     "start_time": "2022-01-30T10:58:09.807562",
     "status": "completed"
    },
    "tags": []
   },
   "outputs": [],
   "source": [
    "# import required libraries\n",
    "import numpy as np\n",
    "import pandas as pd\n",
    "import matplotlib.pyplot as plt\n",
    "import seaborn as sns\n",
    "\n",
    "from sklearn.preprocessing import StandardScaler\n",
    "from sklearn.linear_model import LinearRegression\n",
    "from sklearn.metrics import mean_squared_error, r2_score\n",
    "from sklearn.model_selection import train_test_split\n",
    "\n"
   ]
  },
  {
   "cell_type": "code",
   "execution_count": 2,
   "metadata": {
    "execution": {
     "iopub.execute_input": "2022-01-30T10:58:11.221666Z",
     "iopub.status.busy": "2022-01-30T10:58:11.220938Z",
     "iopub.status.idle": "2022-01-30T10:58:11.273264Z",
     "shell.execute_reply": "2022-01-30T10:58:11.272586Z",
     "shell.execute_reply.started": "2022-01-30T10:53:02.271436Z"
    },
    "papermill": {
     "duration": 0.112283,
     "end_time": "2022-01-30T10:58:11.273461",
     "exception": false,
     "start_time": "2022-01-30T10:58:11.161178",
     "status": "completed"
    },
    "tags": []
   },
   "outputs": [],
   "source": [
    "df = pd.read_csv(\"car data.csv\")"
   ]
  },
  {
   "cell_type": "code",
   "execution_count": 3,
   "metadata": {
    "execution": {
     "iopub.execute_input": "2022-01-30T10:58:11.388036Z",
     "iopub.status.busy": "2022-01-30T10:58:11.387318Z",
     "iopub.status.idle": "2022-01-30T10:58:11.411126Z",
     "shell.execute_reply": "2022-01-30T10:58:11.411628Z",
     "shell.execute_reply.started": "2022-01-30T10:53:20.136892Z"
    },
    "papermill": {
     "duration": 0.082304,
     "end_time": "2022-01-30T10:58:11.411795",
     "exception": false,
     "start_time": "2022-01-30T10:58:11.329491",
     "status": "completed"
    },
    "tags": []
   },
   "outputs": [
    {
     "data": {
      "text/html": [
       "<div>\n",
       "<style scoped>\n",
       "    .dataframe tbody tr th:only-of-type {\n",
       "        vertical-align: middle;\n",
       "    }\n",
       "\n",
       "    .dataframe tbody tr th {\n",
       "        vertical-align: top;\n",
       "    }\n",
       "\n",
       "    .dataframe thead th {\n",
       "        text-align: right;\n",
       "    }\n",
       "</style>\n",
       "<table border=\"1\" class=\"dataframe\">\n",
       "  <thead>\n",
       "    <tr style=\"text-align: right;\">\n",
       "      <th></th>\n",
       "      <th>name</th>\n",
       "      <th>year</th>\n",
       "      <th>selling_price</th>\n",
       "      <th>km_driven</th>\n",
       "      <th>fuel</th>\n",
       "      <th>seller_type</th>\n",
       "      <th>transmission</th>\n",
       "      <th>owner</th>\n",
       "      <th>mileage</th>\n",
       "      <th>engine</th>\n",
       "      <th>max_power</th>\n",
       "      <th>torque</th>\n",
       "      <th>seats</th>\n",
       "    </tr>\n",
       "  </thead>\n",
       "  <tbody>\n",
       "    <tr>\n",
       "      <th>0</th>\n",
       "      <td>Maruti Swift Dzire VDI</td>\n",
       "      <td>2014</td>\n",
       "      <td>450000</td>\n",
       "      <td>145500</td>\n",
       "      <td>Diesel</td>\n",
       "      <td>Individual</td>\n",
       "      <td>Manual</td>\n",
       "      <td>First Owner</td>\n",
       "      <td>23.4 kmpl</td>\n",
       "      <td>1248 CC</td>\n",
       "      <td>74 bhp</td>\n",
       "      <td>190Nm@ 2000rpm</td>\n",
       "      <td>5.0</td>\n",
       "    </tr>\n",
       "    <tr>\n",
       "      <th>1</th>\n",
       "      <td>Skoda Rapid 1.5 TDI Ambition</td>\n",
       "      <td>2014</td>\n",
       "      <td>370000</td>\n",
       "      <td>120000</td>\n",
       "      <td>Diesel</td>\n",
       "      <td>Individual</td>\n",
       "      <td>Manual</td>\n",
       "      <td>Second Owner</td>\n",
       "      <td>21.14 kmpl</td>\n",
       "      <td>1498 CC</td>\n",
       "      <td>103.52 bhp</td>\n",
       "      <td>250Nm@ 1500-2500rpm</td>\n",
       "      <td>5.0</td>\n",
       "    </tr>\n",
       "    <tr>\n",
       "      <th>2</th>\n",
       "      <td>Honda City 2017-2020 EXi</td>\n",
       "      <td>2006</td>\n",
       "      <td>158000</td>\n",
       "      <td>140000</td>\n",
       "      <td>Petrol</td>\n",
       "      <td>Individual</td>\n",
       "      <td>Manual</td>\n",
       "      <td>Third Owner</td>\n",
       "      <td>17.7 kmpl</td>\n",
       "      <td>1497 CC</td>\n",
       "      <td>78 bhp</td>\n",
       "      <td>12.7@ 2,700(kgm@ rpm)</td>\n",
       "      <td>5.0</td>\n",
       "    </tr>\n",
       "    <tr>\n",
       "      <th>3</th>\n",
       "      <td>Hyundai i20 Sportz Diesel</td>\n",
       "      <td>2010</td>\n",
       "      <td>225000</td>\n",
       "      <td>127000</td>\n",
       "      <td>Diesel</td>\n",
       "      <td>Individual</td>\n",
       "      <td>Manual</td>\n",
       "      <td>First Owner</td>\n",
       "      <td>23.0 kmpl</td>\n",
       "      <td>1396 CC</td>\n",
       "      <td>90 bhp</td>\n",
       "      <td>22.4 kgm at 1750-2750rpm</td>\n",
       "      <td>5.0</td>\n",
       "    </tr>\n",
       "    <tr>\n",
       "      <th>4</th>\n",
       "      <td>Maruti Swift VXI BSIII</td>\n",
       "      <td>2007</td>\n",
       "      <td>130000</td>\n",
       "      <td>120000</td>\n",
       "      <td>Petrol</td>\n",
       "      <td>Individual</td>\n",
       "      <td>Manual</td>\n",
       "      <td>First Owner</td>\n",
       "      <td>16.1 kmpl</td>\n",
       "      <td>1298 CC</td>\n",
       "      <td>88.2 bhp</td>\n",
       "      <td>11.5@ 4,500(kgm@ rpm)</td>\n",
       "      <td>5.0</td>\n",
       "    </tr>\n",
       "  </tbody>\n",
       "</table>\n",
       "</div>"
      ],
      "text/plain": [
       "                           name  year  selling_price  km_driven    fuel  \\\n",
       "0        Maruti Swift Dzire VDI  2014         450000     145500  Diesel   \n",
       "1  Skoda Rapid 1.5 TDI Ambition  2014         370000     120000  Diesel   \n",
       "2      Honda City 2017-2020 EXi  2006         158000     140000  Petrol   \n",
       "3     Hyundai i20 Sportz Diesel  2010         225000     127000  Diesel   \n",
       "4        Maruti Swift VXI BSIII  2007         130000     120000  Petrol   \n",
       "\n",
       "  seller_type transmission         owner     mileage   engine   max_power  \\\n",
       "0  Individual       Manual   First Owner   23.4 kmpl  1248 CC      74 bhp   \n",
       "1  Individual       Manual  Second Owner  21.14 kmpl  1498 CC  103.52 bhp   \n",
       "2  Individual       Manual   Third Owner   17.7 kmpl  1497 CC      78 bhp   \n",
       "3  Individual       Manual   First Owner   23.0 kmpl  1396 CC      90 bhp   \n",
       "4  Individual       Manual   First Owner   16.1 kmpl  1298 CC    88.2 bhp   \n",
       "\n",
       "                     torque  seats  \n",
       "0            190Nm@ 2000rpm    5.0  \n",
       "1       250Nm@ 1500-2500rpm    5.0  \n",
       "2     12.7@ 2,700(kgm@ rpm)    5.0  \n",
       "3  22.4 kgm at 1750-2750rpm    5.0  \n",
       "4     11.5@ 4,500(kgm@ rpm)    5.0  "
      ]
     },
     "execution_count": 3,
     "metadata": {},
     "output_type": "execute_result"
    }
   ],
   "source": [
    "df.head()"
   ]
  },
  {
   "cell_type": "code",
   "execution_count": 4,
   "metadata": {
    "execution": {
     "iopub.execute_input": "2022-01-30T10:58:11.529758Z",
     "iopub.status.busy": "2022-01-30T10:58:11.529096Z",
     "iopub.status.idle": "2022-01-30T10:58:11.534191Z",
     "shell.execute_reply": "2022-01-30T10:58:11.534721Z",
     "shell.execute_reply.started": "2022-01-30T10:53:20.987178Z"
    },
    "papermill": {
     "duration": 0.06594,
     "end_time": "2022-01-30T10:58:11.534895",
     "exception": false,
     "start_time": "2022-01-30T10:58:11.468955",
     "status": "completed"
    },
    "tags": []
   },
   "outputs": [
    {
     "data": {
      "text/plain": [
       "(8128, 13)"
      ]
     },
     "execution_count": 4,
     "metadata": {},
     "output_type": "execute_result"
    }
   ],
   "source": [
    "df.shape"
   ]
  },
  {
   "cell_type": "code",
   "execution_count": 5,
   "metadata": {
    "execution": {
     "iopub.execute_input": "2022-01-30T10:58:11.653448Z",
     "iopub.status.busy": "2022-01-30T10:58:11.652791Z",
     "iopub.status.idle": "2022-01-30T10:58:11.690990Z",
     "shell.execute_reply": "2022-01-30T10:58:11.691595Z",
     "shell.execute_reply.started": "2022-01-30T10:53:22.058949Z"
    },
    "papermill": {
     "duration": 0.098223,
     "end_time": "2022-01-30T10:58:11.691770",
     "exception": false,
     "start_time": "2022-01-30T10:58:11.593547",
     "status": "completed"
    },
    "tags": []
   },
   "outputs": [
    {
     "name": "stdout",
     "output_type": "stream",
     "text": [
      "<class 'pandas.core.frame.DataFrame'>\n",
      "RangeIndex: 8128 entries, 0 to 8127\n",
      "Data columns (total 13 columns):\n",
      " #   Column         Non-Null Count  Dtype  \n",
      "---  ------         --------------  -----  \n",
      " 0   name           8128 non-null   object \n",
      " 1   year           8128 non-null   int64  \n",
      " 2   selling_price  8128 non-null   int64  \n",
      " 3   km_driven      8128 non-null   int64  \n",
      " 4   fuel           8128 non-null   object \n",
      " 5   seller_type    8128 non-null   object \n",
      " 6   transmission   8128 non-null   object \n",
      " 7   owner          8128 non-null   object \n",
      " 8   mileage        7907 non-null   object \n",
      " 9   engine         7907 non-null   object \n",
      " 10  max_power      7913 non-null   object \n",
      " 11  torque         7906 non-null   object \n",
      " 12  seats          7907 non-null   float64\n",
      "dtypes: float64(1), int64(3), object(9)\n",
      "memory usage: 825.6+ KB\n"
     ]
    }
   ],
   "source": [
    "df.info()"
   ]
  },
  {
   "cell_type": "code",
   "execution_count": 6,
   "metadata": {
    "execution": {
     "iopub.execute_input": "2022-01-30T10:58:11.817951Z",
     "iopub.status.busy": "2022-01-30T10:58:11.817277Z",
     "iopub.status.idle": "2022-01-30T10:58:11.824195Z",
     "shell.execute_reply": "2022-01-30T10:58:11.824697Z",
     "shell.execute_reply.started": "2022-01-30T10:53:23.175027Z"
    },
    "papermill": {
     "duration": 0.075311,
     "end_time": "2022-01-30T10:58:11.824874",
     "exception": false,
     "start_time": "2022-01-30T10:58:11.749563",
     "status": "completed"
    },
    "tags": []
   },
   "outputs": [],
   "source": [
    "# remove kmpl from mileage and convert it into float type from object type\n",
    "df['mileage'] = df['mileage'].apply(lambda x: float(x.split()[0]) if type(x)==str else np.nan)\n",
    "df['mileage'] = df['mileage'].astype(\"float\")"
   ]
  },
  {
   "cell_type": "code",
   "execution_count": 7,
   "metadata": {
    "execution": {
     "iopub.execute_input": "2022-01-30T10:58:11.942443Z",
     "iopub.status.busy": "2022-01-30T10:58:11.941752Z",
     "iopub.status.idle": "2022-01-30T10:58:11.951046Z",
     "shell.execute_reply": "2022-01-30T10:58:11.951549Z",
     "shell.execute_reply.started": "2022-01-30T10:53:23.832178Z"
    },
    "papermill": {
     "duration": 0.069628,
     "end_time": "2022-01-30T10:58:11.951731",
     "exception": false,
     "start_time": "2022-01-30T10:58:11.882103",
     "status": "completed"
    },
    "tags": []
   },
   "outputs": [],
   "source": [
    "# remove CC from engine variable \n",
    "df['engine'] = df['engine'].apply(lambda x: x.replace(\"CC\",\"\") if type(x)==str else np.nan)"
   ]
  },
  {
   "cell_type": "code",
   "execution_count": 8,
   "metadata": {
    "execution": {
     "iopub.execute_input": "2022-01-30T10:58:12.078662Z",
     "iopub.status.busy": "2022-01-30T10:58:12.077983Z",
     "iopub.status.idle": "2022-01-30T10:58:12.080564Z",
     "shell.execute_reply": "2022-01-30T10:58:12.080999Z",
     "shell.execute_reply.started": "2022-01-30T10:53:24.102119Z"
    },
    "papermill": {
     "duration": 0.071885,
     "end_time": "2022-01-30T10:58:12.081166",
     "exception": false,
     "start_time": "2022-01-30T10:58:12.009281",
     "status": "completed"
    },
    "tags": []
   },
   "outputs": [],
   "source": [
    "# remove bhp from max_power and convert it into float type from object type\n",
    "df['max_power'] = df['max_power'].apply(lambda x : x.split()[0] if type(x)==str else np.nan )"
   ]
  },
  {
   "cell_type": "markdown",
   "metadata": {
    "papermill": {
     "duration": 0.056182,
     "end_time": "2022-01-30T10:58:12.194321",
     "exception": false,
     "start_time": "2022-01-30T10:58:12.138139",
     "status": "completed"
    },
    "tags": []
   },
   "source": [
    "#### Missing values"
   ]
  },
  {
   "cell_type": "code",
   "execution_count": 9,
   "metadata": {
    "execution": {
     "iopub.execute_input": "2022-01-30T10:58:12.312207Z",
     "iopub.status.busy": "2022-01-30T10:58:12.311239Z",
     "iopub.status.idle": "2022-01-30T10:58:12.328645Z",
     "shell.execute_reply": "2022-01-30T10:58:12.327942Z",
     "shell.execute_reply.started": "2022-01-30T10:53:24.653494Z"
    },
    "papermill": {
     "duration": 0.077842,
     "end_time": "2022-01-30T10:58:12.328802",
     "exception": false,
     "start_time": "2022-01-30T10:58:12.250960",
     "status": "completed"
    },
    "tags": []
   },
   "outputs": [
    {
     "data": {
      "text/plain": [
       "torque       2.73\n",
       "seats        2.72\n",
       "engine       2.72\n",
       "mileage      2.72\n",
       "max_power    2.65\n",
       "dtype: float64"
      ]
     },
     "execution_count": 9,
     "metadata": {},
     "output_type": "execute_result"
    }
   ],
   "source": [
    "# check missing values percentage in each column\n",
    "df.isnull().mean().round(4).mul(100).sort_values(ascending=False).head()"
   ]
  },
  {
   "cell_type": "code",
   "execution_count": 10,
   "metadata": {
    "execution": {
     "iopub.execute_input": "2022-01-30T10:58:12.710391Z",
     "iopub.status.busy": "2022-01-30T10:58:12.708867Z",
     "iopub.status.idle": "2022-01-30T10:58:12.713146Z",
     "shell.execute_reply": "2022-01-30T10:58:12.713636Z",
     "shell.execute_reply.started": "2022-01-30T10:53:25.407215Z"
    },
    "papermill": {
     "duration": 0.069571,
     "end_time": "2022-01-30T10:58:12.713799",
     "exception": false,
     "start_time": "2022-01-30T10:58:12.644228",
     "status": "completed"
    },
    "tags": []
   },
   "outputs": [
    {
     "data": {
      "text/plain": [
       "0                  190Nm@ 2000rpm\n",
       "1             250Nm@ 1500-2500rpm\n",
       "2           12.7@ 2,700(kgm@ rpm)\n",
       "3        22.4 kgm at 1750-2750rpm\n",
       "4           11.5@ 4,500(kgm@ rpm)\n",
       "                  ...            \n",
       "8123             113.7Nm@ 4000rpm\n",
       "8124    24@ 1,900-2,750(kgm@ rpm)\n",
       "8125               190Nm@ 2000rpm\n",
       "8126          140Nm@ 1800-3000rpm\n",
       "8127          140Nm@ 1800-3000rpm\n",
       "Name: torque, Length: 8128, dtype: object"
      ]
     },
     "execution_count": 10,
     "metadata": {},
     "output_type": "execute_result"
    }
   ],
   "source": [
    "df.torque"
   ]
  },
  {
   "cell_type": "code",
   "execution_count": 11,
   "metadata": {
    "execution": {
     "iopub.execute_input": "2022-01-30T10:58:12.833669Z",
     "iopub.status.busy": "2022-01-30T10:58:12.833041Z",
     "iopub.status.idle": "2022-01-30T10:58:12.840129Z",
     "shell.execute_reply": "2022-01-30T10:58:12.840686Z",
     "shell.execute_reply.started": "2022-01-30T10:53:25.488235Z"
    },
    "papermill": {
     "duration": 0.068471,
     "end_time": "2022-01-30T10:58:12.840862",
     "exception": false,
     "start_time": "2022-01-30T10:58:12.772391",
     "status": "completed"
    },
    "tags": []
   },
   "outputs": [],
   "source": [
    "# we will drop the torque as it doesn't have proper format\n",
    "df.drop([\"torque\"],axis=1,inplace=True)"
   ]
  },
  {
   "cell_type": "code",
   "execution_count": 12,
   "metadata": {
    "execution": {
     "iopub.execute_input": "2022-01-30T10:58:12.962930Z",
     "iopub.status.busy": "2022-01-30T10:58:12.962213Z",
     "iopub.status.idle": "2022-01-30T10:58:12.978270Z",
     "shell.execute_reply": "2022-01-30T10:58:12.977664Z",
     "shell.execute_reply.started": "2022-01-30T10:53:25.608770Z"
    },
    "papermill": {
     "duration": 0.07919,
     "end_time": "2022-01-30T10:58:12.978418",
     "exception": false,
     "start_time": "2022-01-30T10:58:12.899228",
     "status": "completed"
    },
    "tags": []
   },
   "outputs": [
    {
     "data": {
      "text/plain": [
       "seats        2.72\n",
       "engine       2.72\n",
       "mileage      2.72\n",
       "max_power    2.65\n",
       "owner        0.00\n",
       "dtype: float64"
      ]
     },
     "execution_count": 12,
     "metadata": {},
     "output_type": "execute_result"
    }
   ],
   "source": [
    "# check missing values percentage in each column\n",
    "df.isnull().mean().round(4).mul(100).sort_values(ascending=False).head()"
   ]
  },
  {
   "cell_type": "code",
   "execution_count": 13,
   "metadata": {
    "execution": {
     "iopub.execute_input": "2022-01-30T10:58:13.101922Z",
     "iopub.status.busy": "2022-01-30T10:58:13.101275Z",
     "iopub.status.idle": "2022-01-30T10:58:13.122625Z",
     "shell.execute_reply": "2022-01-30T10:58:13.123107Z",
     "shell.execute_reply.started": "2022-01-30T10:53:25.685732Z"
    },
    "papermill": {
     "duration": 0.086113,
     "end_time": "2022-01-30T10:58:13.123268",
     "exception": false,
     "start_time": "2022-01-30T10:58:13.037155",
     "status": "completed"
    },
    "tags": []
   },
   "outputs": [
    {
     "data": {
      "text/html": [
       "<div>\n",
       "<style scoped>\n",
       "    .dataframe tbody tr th:only-of-type {\n",
       "        vertical-align: middle;\n",
       "    }\n",
       "\n",
       "    .dataframe tbody tr th {\n",
       "        vertical-align: top;\n",
       "    }\n",
       "\n",
       "    .dataframe thead th {\n",
       "        text-align: right;\n",
       "    }\n",
       "</style>\n",
       "<table border=\"1\" class=\"dataframe\">\n",
       "  <thead>\n",
       "    <tr style=\"text-align: right;\">\n",
       "      <th></th>\n",
       "      <th>name</th>\n",
       "      <th>year</th>\n",
       "      <th>selling_price</th>\n",
       "      <th>km_driven</th>\n",
       "      <th>fuel</th>\n",
       "      <th>seller_type</th>\n",
       "      <th>transmission</th>\n",
       "      <th>owner</th>\n",
       "      <th>mileage</th>\n",
       "      <th>engine</th>\n",
       "      <th>max_power</th>\n",
       "      <th>seats</th>\n",
       "    </tr>\n",
       "  </thead>\n",
       "  <tbody>\n",
       "    <tr>\n",
       "      <th>13</th>\n",
       "      <td>Maruti Swift 1.3 VXi</td>\n",
       "      <td>2007</td>\n",
       "      <td>200000</td>\n",
       "      <td>80000</td>\n",
       "      <td>Petrol</td>\n",
       "      <td>Individual</td>\n",
       "      <td>Manual</td>\n",
       "      <td>Second Owner</td>\n",
       "      <td>NaN</td>\n",
       "      <td>NaN</td>\n",
       "      <td>NaN</td>\n",
       "      <td>NaN</td>\n",
       "    </tr>\n",
       "    <tr>\n",
       "      <th>31</th>\n",
       "      <td>Fiat Palio 1.2 ELX</td>\n",
       "      <td>2003</td>\n",
       "      <td>70000</td>\n",
       "      <td>50000</td>\n",
       "      <td>Petrol</td>\n",
       "      <td>Individual</td>\n",
       "      <td>Manual</td>\n",
       "      <td>Second Owner</td>\n",
       "      <td>NaN</td>\n",
       "      <td>NaN</td>\n",
       "      <td>NaN</td>\n",
       "      <td>NaN</td>\n",
       "    </tr>\n",
       "    <tr>\n",
       "      <th>78</th>\n",
       "      <td>Tata Indica DLS</td>\n",
       "      <td>2003</td>\n",
       "      <td>50000</td>\n",
       "      <td>70000</td>\n",
       "      <td>Diesel</td>\n",
       "      <td>Individual</td>\n",
       "      <td>Manual</td>\n",
       "      <td>First Owner</td>\n",
       "      <td>NaN</td>\n",
       "      <td>NaN</td>\n",
       "      <td>NaN</td>\n",
       "      <td>NaN</td>\n",
       "    </tr>\n",
       "    <tr>\n",
       "      <th>87</th>\n",
       "      <td>Maruti Swift VDI BSIV W ABS</td>\n",
       "      <td>2015</td>\n",
       "      <td>475000</td>\n",
       "      <td>78000</td>\n",
       "      <td>Diesel</td>\n",
       "      <td>Dealer</td>\n",
       "      <td>Manual</td>\n",
       "      <td>First Owner</td>\n",
       "      <td>NaN</td>\n",
       "      <td>NaN</td>\n",
       "      <td>NaN</td>\n",
       "      <td>NaN</td>\n",
       "    </tr>\n",
       "    <tr>\n",
       "      <th>119</th>\n",
       "      <td>Maruti Swift VDI BSIV</td>\n",
       "      <td>2010</td>\n",
       "      <td>300000</td>\n",
       "      <td>120000</td>\n",
       "      <td>Diesel</td>\n",
       "      <td>Individual</td>\n",
       "      <td>Manual</td>\n",
       "      <td>Second Owner</td>\n",
       "      <td>NaN</td>\n",
       "      <td>NaN</td>\n",
       "      <td>NaN</td>\n",
       "      <td>NaN</td>\n",
       "    </tr>\n",
       "    <tr>\n",
       "      <th>...</th>\n",
       "      <td>...</td>\n",
       "      <td>...</td>\n",
       "      <td>...</td>\n",
       "      <td>...</td>\n",
       "      <td>...</td>\n",
       "      <td>...</td>\n",
       "      <td>...</td>\n",
       "      <td>...</td>\n",
       "      <td>...</td>\n",
       "      <td>...</td>\n",
       "      <td>...</td>\n",
       "      <td>...</td>\n",
       "    </tr>\n",
       "    <tr>\n",
       "      <th>7846</th>\n",
       "      <td>Toyota Qualis Fleet A3</td>\n",
       "      <td>2000</td>\n",
       "      <td>200000</td>\n",
       "      <td>100000</td>\n",
       "      <td>Diesel</td>\n",
       "      <td>Individual</td>\n",
       "      <td>Manual</td>\n",
       "      <td>First Owner</td>\n",
       "      <td>NaN</td>\n",
       "      <td>NaN</td>\n",
       "      <td>NaN</td>\n",
       "      <td>NaN</td>\n",
       "    </tr>\n",
       "    <tr>\n",
       "      <th>7996</th>\n",
       "      <td>Hyundai Santro LS zipPlus</td>\n",
       "      <td>2000</td>\n",
       "      <td>140000</td>\n",
       "      <td>50000</td>\n",
       "      <td>Petrol</td>\n",
       "      <td>Individual</td>\n",
       "      <td>Manual</td>\n",
       "      <td>Second Owner</td>\n",
       "      <td>NaN</td>\n",
       "      <td>NaN</td>\n",
       "      <td>NaN</td>\n",
       "      <td>NaN</td>\n",
       "    </tr>\n",
       "    <tr>\n",
       "      <th>8009</th>\n",
       "      <td>Hyundai Santro Xing XS eRLX Euro III</td>\n",
       "      <td>2006</td>\n",
       "      <td>145000</td>\n",
       "      <td>80000</td>\n",
       "      <td>Petrol</td>\n",
       "      <td>Individual</td>\n",
       "      <td>Manual</td>\n",
       "      <td>Second Owner</td>\n",
       "      <td>NaN</td>\n",
       "      <td>NaN</td>\n",
       "      <td>NaN</td>\n",
       "      <td>NaN</td>\n",
       "    </tr>\n",
       "    <tr>\n",
       "      <th>8068</th>\n",
       "      <td>Ford Figo Aspire Facelift</td>\n",
       "      <td>2017</td>\n",
       "      <td>580000</td>\n",
       "      <td>165000</td>\n",
       "      <td>Diesel</td>\n",
       "      <td>Individual</td>\n",
       "      <td>Manual</td>\n",
       "      <td>First Owner</td>\n",
       "      <td>NaN</td>\n",
       "      <td>NaN</td>\n",
       "      <td>NaN</td>\n",
       "      <td>NaN</td>\n",
       "    </tr>\n",
       "    <tr>\n",
       "      <th>8103</th>\n",
       "      <td>Maruti Swift 1.3 VXi</td>\n",
       "      <td>2006</td>\n",
       "      <td>130000</td>\n",
       "      <td>100000</td>\n",
       "      <td>Petrol</td>\n",
       "      <td>Individual</td>\n",
       "      <td>Manual</td>\n",
       "      <td>Second Owner</td>\n",
       "      <td>NaN</td>\n",
       "      <td>NaN</td>\n",
       "      <td>NaN</td>\n",
       "      <td>NaN</td>\n",
       "    </tr>\n",
       "  </tbody>\n",
       "</table>\n",
       "<p>221 rows × 12 columns</p>\n",
       "</div>"
      ],
      "text/plain": [
       "                                      name  year  selling_price  km_driven  \\\n",
       "13                    Maruti Swift 1.3 VXi  2007         200000      80000   \n",
       "31                      Fiat Palio 1.2 ELX  2003          70000      50000   \n",
       "78                         Tata Indica DLS  2003          50000      70000   \n",
       "87             Maruti Swift VDI BSIV W ABS  2015         475000      78000   \n",
       "119                  Maruti Swift VDI BSIV  2010         300000     120000   \n",
       "...                                    ...   ...            ...        ...   \n",
       "7846                Toyota Qualis Fleet A3  2000         200000     100000   \n",
       "7996             Hyundai Santro LS zipPlus  2000         140000      50000   \n",
       "8009  Hyundai Santro Xing XS eRLX Euro III  2006         145000      80000   \n",
       "8068             Ford Figo Aspire Facelift  2017         580000     165000   \n",
       "8103                  Maruti Swift 1.3 VXi  2006         130000     100000   \n",
       "\n",
       "        fuel seller_type transmission         owner  mileage engine max_power  \\\n",
       "13    Petrol  Individual       Manual  Second Owner      NaN    NaN       NaN   \n",
       "31    Petrol  Individual       Manual  Second Owner      NaN    NaN       NaN   \n",
       "78    Diesel  Individual       Manual   First Owner      NaN    NaN       NaN   \n",
       "87    Diesel      Dealer       Manual   First Owner      NaN    NaN       NaN   \n",
       "119   Diesel  Individual       Manual  Second Owner      NaN    NaN       NaN   \n",
       "...      ...         ...          ...           ...      ...    ...       ...   \n",
       "7846  Diesel  Individual       Manual   First Owner      NaN    NaN       NaN   \n",
       "7996  Petrol  Individual       Manual  Second Owner      NaN    NaN       NaN   \n",
       "8009  Petrol  Individual       Manual  Second Owner      NaN    NaN       NaN   \n",
       "8068  Diesel  Individual       Manual   First Owner      NaN    NaN       NaN   \n",
       "8103  Petrol  Individual       Manual  Second Owner      NaN    NaN       NaN   \n",
       "\n",
       "      seats  \n",
       "13      NaN  \n",
       "31      NaN  \n",
       "78      NaN  \n",
       "87      NaN  \n",
       "119     NaN  \n",
       "...     ...  \n",
       "7846    NaN  \n",
       "7996    NaN  \n",
       "8009    NaN  \n",
       "8068    NaN  \n",
       "8103    NaN  \n",
       "\n",
       "[221 rows x 12 columns]"
      ]
     },
     "execution_count": 13,
     "metadata": {},
     "output_type": "execute_result"
    }
   ],
   "source": [
    "df[df[\"mileage\"].isnull() & df[\"engine\"].isnull() & df[\"seats\"].isnull()]"
   ]
  },
  {
   "cell_type": "markdown",
   "metadata": {
    "papermill": {
     "duration": 0.058403,
     "end_time": "2022-01-30T10:58:13.240531",
     "exception": false,
     "start_time": "2022-01-30T10:58:13.182128",
     "status": "completed"
    },
    "tags": []
   },
   "source": [
    "above rows indicate pattern in missing values, it is better to drop them instead of imputing"
   ]
  },
  {
   "cell_type": "code",
   "execution_count": 14,
   "metadata": {
    "execution": {
     "iopub.execute_input": "2022-01-30T10:58:13.368938Z",
     "iopub.status.busy": "2022-01-30T10:58:13.360852Z",
     "iopub.status.idle": "2022-01-30T10:58:13.374636Z",
     "shell.execute_reply": "2022-01-30T10:58:13.375137Z",
     "shell.execute_reply.started": "2022-01-30T10:53:25.872166Z"
    },
    "papermill": {
     "duration": 0.07621,
     "end_time": "2022-01-30T10:58:13.375302",
     "exception": false,
     "start_time": "2022-01-30T10:58:13.299092",
     "status": "completed"
    },
    "tags": []
   },
   "outputs": [],
   "source": [
    "df.dropna(inplace=True)"
   ]
  },
  {
   "cell_type": "code",
   "execution_count": 15,
   "metadata": {
    "execution": {
     "iopub.execute_input": "2022-01-30T10:58:13.501078Z",
     "iopub.status.busy": "2022-01-30T10:58:13.500138Z",
     "iopub.status.idle": "2022-01-30T10:58:13.503348Z",
     "shell.execute_reply": "2022-01-30T10:58:13.503827Z",
     "shell.execute_reply.started": "2022-01-30T10:53:25.917956Z"
    },
    "papermill": {
     "duration": 0.068556,
     "end_time": "2022-01-30T10:58:13.504008",
     "exception": false,
     "start_time": "2022-01-30T10:58:13.435452",
     "status": "completed"
    },
    "tags": []
   },
   "outputs": [
    {
     "data": {
      "text/plain": [
       "(7907, 12)"
      ]
     },
     "execution_count": 15,
     "metadata": {},
     "output_type": "execute_result"
    }
   ],
   "source": [
    "df.shape"
   ]
  },
  {
   "cell_type": "code",
   "execution_count": 16,
   "metadata": {
    "execution": {
     "iopub.execute_input": "2022-01-30T10:58:13.626375Z",
     "iopub.status.busy": "2022-01-30T10:58:13.625784Z",
     "iopub.status.idle": "2022-01-30T10:58:13.641798Z",
     "shell.execute_reply": "2022-01-30T10:58:13.642278Z",
     "shell.execute_reply.started": "2022-01-30T10:53:25.992415Z"
    },
    "papermill": {
     "duration": 0.078299,
     "end_time": "2022-01-30T10:58:13.642462",
     "exception": false,
     "start_time": "2022-01-30T10:58:13.564163",
     "status": "completed"
    },
    "tags": []
   },
   "outputs": [
    {
     "data": {
      "text/html": [
       "<div>\n",
       "<style scoped>\n",
       "    .dataframe tbody tr th:only-of-type {\n",
       "        vertical-align: middle;\n",
       "    }\n",
       "\n",
       "    .dataframe tbody tr th {\n",
       "        vertical-align: top;\n",
       "    }\n",
       "\n",
       "    .dataframe thead th {\n",
       "        text-align: right;\n",
       "    }\n",
       "</style>\n",
       "<table border=\"1\" class=\"dataframe\">\n",
       "  <thead>\n",
       "    <tr style=\"text-align: right;\">\n",
       "      <th></th>\n",
       "      <th>name</th>\n",
       "      <th>year</th>\n",
       "      <th>selling_price</th>\n",
       "      <th>km_driven</th>\n",
       "      <th>fuel</th>\n",
       "      <th>seller_type</th>\n",
       "      <th>transmission</th>\n",
       "      <th>owner</th>\n",
       "      <th>mileage</th>\n",
       "      <th>engine</th>\n",
       "      <th>max_power</th>\n",
       "      <th>seats</th>\n",
       "    </tr>\n",
       "  </thead>\n",
       "  <tbody>\n",
       "    <tr>\n",
       "      <th>0</th>\n",
       "      <td>Maruti Swift Dzire VDI</td>\n",
       "      <td>2014</td>\n",
       "      <td>450000</td>\n",
       "      <td>145500</td>\n",
       "      <td>Diesel</td>\n",
       "      <td>Individual</td>\n",
       "      <td>Manual</td>\n",
       "      <td>First Owner</td>\n",
       "      <td>23.40</td>\n",
       "      <td>1248</td>\n",
       "      <td>74</td>\n",
       "      <td>5.0</td>\n",
       "    </tr>\n",
       "    <tr>\n",
       "      <th>1</th>\n",
       "      <td>Skoda Rapid 1.5 TDI Ambition</td>\n",
       "      <td>2014</td>\n",
       "      <td>370000</td>\n",
       "      <td>120000</td>\n",
       "      <td>Diesel</td>\n",
       "      <td>Individual</td>\n",
       "      <td>Manual</td>\n",
       "      <td>Second Owner</td>\n",
       "      <td>21.14</td>\n",
       "      <td>1498</td>\n",
       "      <td>103.52</td>\n",
       "      <td>5.0</td>\n",
       "    </tr>\n",
       "    <tr>\n",
       "      <th>2</th>\n",
       "      <td>Honda City 2017-2020 EXi</td>\n",
       "      <td>2006</td>\n",
       "      <td>158000</td>\n",
       "      <td>140000</td>\n",
       "      <td>Petrol</td>\n",
       "      <td>Individual</td>\n",
       "      <td>Manual</td>\n",
       "      <td>Third Owner</td>\n",
       "      <td>17.70</td>\n",
       "      <td>1497</td>\n",
       "      <td>78</td>\n",
       "      <td>5.0</td>\n",
       "    </tr>\n",
       "    <tr>\n",
       "      <th>3</th>\n",
       "      <td>Hyundai i20 Sportz Diesel</td>\n",
       "      <td>2010</td>\n",
       "      <td>225000</td>\n",
       "      <td>127000</td>\n",
       "      <td>Diesel</td>\n",
       "      <td>Individual</td>\n",
       "      <td>Manual</td>\n",
       "      <td>First Owner</td>\n",
       "      <td>23.00</td>\n",
       "      <td>1396</td>\n",
       "      <td>90</td>\n",
       "      <td>5.0</td>\n",
       "    </tr>\n",
       "    <tr>\n",
       "      <th>4</th>\n",
       "      <td>Maruti Swift VXI BSIII</td>\n",
       "      <td>2007</td>\n",
       "      <td>130000</td>\n",
       "      <td>120000</td>\n",
       "      <td>Petrol</td>\n",
       "      <td>Individual</td>\n",
       "      <td>Manual</td>\n",
       "      <td>First Owner</td>\n",
       "      <td>16.10</td>\n",
       "      <td>1298</td>\n",
       "      <td>88.2</td>\n",
       "      <td>5.0</td>\n",
       "    </tr>\n",
       "  </tbody>\n",
       "</table>\n",
       "</div>"
      ],
      "text/plain": [
       "                           name  year  selling_price  km_driven    fuel  \\\n",
       "0        Maruti Swift Dzire VDI  2014         450000     145500  Diesel   \n",
       "1  Skoda Rapid 1.5 TDI Ambition  2014         370000     120000  Diesel   \n",
       "2      Honda City 2017-2020 EXi  2006         158000     140000  Petrol   \n",
       "3     Hyundai i20 Sportz Diesel  2010         225000     127000  Diesel   \n",
       "4        Maruti Swift VXI BSIII  2007         130000     120000  Petrol   \n",
       "\n",
       "  seller_type transmission         owner  mileage engine max_power  seats  \n",
       "0  Individual       Manual   First Owner    23.40  1248         74    5.0  \n",
       "1  Individual       Manual  Second Owner    21.14  1498     103.52    5.0  \n",
       "2  Individual       Manual   Third Owner    17.70  1497         78    5.0  \n",
       "3  Individual       Manual   First Owner    23.00  1396         90    5.0  \n",
       "4  Individual       Manual   First Owner    16.10  1298       88.2    5.0  "
      ]
     },
     "execution_count": 16,
     "metadata": {},
     "output_type": "execute_result"
    }
   ],
   "source": [
    "df.head()"
   ]
  },
  {
   "cell_type": "code",
   "execution_count": 17,
   "metadata": {
    "execution": {
     "iopub.execute_input": "2022-01-30T10:58:13.766107Z",
     "iopub.status.busy": "2022-01-30T10:58:13.765463Z",
     "iopub.status.idle": "2022-01-30T10:58:13.785217Z",
     "shell.execute_reply": "2022-01-30T10:58:13.784625Z",
     "shell.execute_reply.started": "2022-01-30T10:53:26.098194Z"
    },
    "papermill": {
     "duration": 0.082516,
     "end_time": "2022-01-30T10:58:13.785357",
     "exception": false,
     "start_time": "2022-01-30T10:58:13.702841",
     "status": "completed"
    },
    "tags": []
   },
   "outputs": [
    {
     "name": "stdout",
     "output_type": "stream",
     "text": [
      "<class 'pandas.core.frame.DataFrame'>\n",
      "Int64Index: 7907 entries, 0 to 8127\n",
      "Data columns (total 12 columns):\n",
      " #   Column         Non-Null Count  Dtype  \n",
      "---  ------         --------------  -----  \n",
      " 0   name           7907 non-null   object \n",
      " 1   year           7907 non-null   int64  \n",
      " 2   selling_price  7907 non-null   int64  \n",
      " 3   km_driven      7907 non-null   int64  \n",
      " 4   fuel           7907 non-null   object \n",
      " 5   seller_type    7907 non-null   object \n",
      " 6   transmission   7907 non-null   object \n",
      " 7   owner          7907 non-null   object \n",
      " 8   mileage        7907 non-null   float64\n",
      " 9   engine         7907 non-null   object \n",
      " 10  max_power      7907 non-null   object \n",
      " 11  seats          7907 non-null   float64\n",
      "dtypes: float64(2), int64(3), object(7)\n",
      "memory usage: 803.1+ KB\n"
     ]
    }
   ],
   "source": [
    "df.info()"
   ]
  },
  {
   "cell_type": "code",
   "execution_count": 18,
   "metadata": {
    "execution": {
     "iopub.execute_input": "2022-01-30T10:58:13.913506Z",
     "iopub.status.busy": "2022-01-30T10:58:13.912832Z",
     "iopub.status.idle": "2022-01-30T10:58:13.931507Z",
     "shell.execute_reply": "2022-01-30T10:58:13.932136Z",
     "shell.execute_reply.started": "2022-01-30T10:53:26.187337Z"
    },
    "papermill": {
     "duration": 0.085747,
     "end_time": "2022-01-30T10:58:13.932304",
     "exception": false,
     "start_time": "2022-01-30T10:58:13.846557",
     "status": "completed"
    },
    "tags": []
   },
   "outputs": [
    {
     "data": {
      "text/html": [
       "<div>\n",
       "<style scoped>\n",
       "    .dataframe tbody tr th:only-of-type {\n",
       "        vertical-align: middle;\n",
       "    }\n",
       "\n",
       "    .dataframe tbody tr th {\n",
       "        vertical-align: top;\n",
       "    }\n",
       "\n",
       "    .dataframe thead th {\n",
       "        text-align: right;\n",
       "    }\n",
       "</style>\n",
       "<table border=\"1\" class=\"dataframe\">\n",
       "  <thead>\n",
       "    <tr style=\"text-align: right;\">\n",
       "      <th></th>\n",
       "      <th>name</th>\n",
       "      <th>year</th>\n",
       "      <th>selling_price</th>\n",
       "      <th>km_driven</th>\n",
       "      <th>fuel</th>\n",
       "      <th>seller_type</th>\n",
       "      <th>transmission</th>\n",
       "      <th>owner</th>\n",
       "      <th>mileage</th>\n",
       "      <th>engine</th>\n",
       "      <th>max_power</th>\n",
       "      <th>seats</th>\n",
       "    </tr>\n",
       "  </thead>\n",
       "  <tbody>\n",
       "    <tr>\n",
       "      <th>4933</th>\n",
       "      <td>Maruti Omni CNG</td>\n",
       "      <td>2000</td>\n",
       "      <td>80000</td>\n",
       "      <td>100000</td>\n",
       "      <td>CNG</td>\n",
       "      <td>Individual</td>\n",
       "      <td>Manual</td>\n",
       "      <td>Second Owner</td>\n",
       "      <td>10.9</td>\n",
       "      <td>796</td>\n",
       "      <td>bhp</td>\n",
       "      <td>8.0</td>\n",
       "    </tr>\n",
       "  </tbody>\n",
       "</table>\n",
       "</div>"
      ],
      "text/plain": [
       "                 name  year  selling_price  km_driven fuel seller_type  \\\n",
       "4933  Maruti Omni CNG  2000          80000     100000  CNG  Individual   \n",
       "\n",
       "     transmission         owner  mileage engine max_power  seats  \n",
       "4933       Manual  Second Owner     10.9   796        bhp    8.0  "
      ]
     },
     "execution_count": 18,
     "metadata": {},
     "output_type": "execute_result"
    }
   ],
   "source": [
    "df[df['max_power'].str.contains('bhp')]"
   ]
  },
  {
   "cell_type": "code",
   "execution_count": 19,
   "metadata": {
    "execution": {
     "iopub.execute_input": "2022-01-30T10:58:14.060838Z",
     "iopub.status.busy": "2022-01-30T10:58:14.060184Z",
     "iopub.status.idle": "2022-01-30T10:58:14.069554Z",
     "shell.execute_reply": "2022-01-30T10:58:14.070093Z",
     "shell.execute_reply.started": "2022-01-30T10:53:26.286536Z"
    },
    "papermill": {
     "duration": 0.074865,
     "end_time": "2022-01-30T10:58:14.070258",
     "exception": false,
     "start_time": "2022-01-30T10:58:13.995393",
     "status": "completed"
    },
    "tags": []
   },
   "outputs": [],
   "source": [
    "# we have one row containing only bhp with no value in it, lets drop it\n",
    "df = df[df['max_power'].str.contains('bhp') == False]"
   ]
  },
  {
   "cell_type": "code",
   "execution_count": 20,
   "metadata": {
    "execution": {
     "iopub.execute_input": "2022-01-30T10:58:14.195054Z",
     "iopub.status.busy": "2022-01-30T10:58:14.194370Z",
     "iopub.status.idle": "2022-01-30T10:58:14.203482Z",
     "shell.execute_reply": "2022-01-30T10:58:14.204136Z",
     "shell.execute_reply.started": "2022-01-30T10:53:26.344331Z"
    },
    "papermill": {
     "duration": 0.073265,
     "end_time": "2022-01-30T10:58:14.204307",
     "exception": false,
     "start_time": "2022-01-30T10:58:14.131042",
     "status": "completed"
    },
    "tags": []
   },
   "outputs": [],
   "source": [
    "# convert from object type to their respective types\n",
    "df[\"engine\"] = df[\"engine\"].astype(int)\n",
    "df[\"max_power\"] = df[\"max_power\"].astype(float)"
   ]
  },
  {
   "cell_type": "markdown",
   "metadata": {
    "papermill": {
     "duration": 0.060626,
     "end_time": "2022-01-30T10:58:14.325953",
     "exception": false,
     "start_time": "2022-01-30T10:58:14.265327",
     "status": "completed"
    },
    "tags": []
   },
   "source": [
    "#### EDA"
   ]
  },
  {
   "cell_type": "code",
   "execution_count": 21,
   "metadata": {
    "execution": {
     "iopub.execute_input": "2022-01-30T10:58:14.455862Z",
     "iopub.status.busy": "2022-01-30T10:58:14.455157Z",
     "iopub.status.idle": "2022-01-30T10:58:14.458058Z",
     "shell.execute_reply": "2022-01-30T10:58:14.458546Z",
     "shell.execute_reply.started": "2022-01-30T10:53:26.523566Z"
    },
    "papermill": {
     "duration": 0.071981,
     "end_time": "2022-01-30T10:58:14.458712",
     "exception": false,
     "start_time": "2022-01-30T10:58:14.386731",
     "status": "completed"
    },
    "tags": []
   },
   "outputs": [
    {
     "data": {
      "text/plain": [
       "Diesel    4299\n",
       "Petrol    3520\n",
       "CNG         52\n",
       "LPG         35\n",
       "Name: fuel, dtype: int64"
      ]
     },
     "execution_count": 21,
     "metadata": {},
     "output_type": "execute_result"
    }
   ],
   "source": [
    "df[\"fuel\"].value_counts()"
   ]
  },
  {
   "cell_type": "code",
   "execution_count": 22,
   "metadata": {
    "execution": {
     "iopub.execute_input": "2022-01-30T10:58:14.587305Z",
     "iopub.status.busy": "2022-01-30T10:58:14.586323Z",
     "iopub.status.idle": "2022-01-30T10:58:14.754060Z",
     "shell.execute_reply": "2022-01-30T10:58:14.754943Z",
     "shell.execute_reply.started": "2022-01-30T10:53:26.631390Z"
    },
    "papermill": {
     "duration": 0.234352,
     "end_time": "2022-01-30T10:58:14.755218",
     "exception": false,
     "start_time": "2022-01-30T10:58:14.520866",
     "status": "completed"
    },
    "tags": []
   },
   "outputs": [
    {
     "data": {
      "image/png": "[encoded data removed]",
      "text/plain": [
       "<Figure size 432x288 with 1 Axes>"
      ]
     },
     "metadata": {
      "needs_background": "light"
     },
     "output_type": "display_data"
    }
   ],
   "source": [
    "sns.countplot(x='fuel', data=df)\n",
    "plt.show()"
   ]
  },
  {
   "cell_type": "markdown",
   "metadata": {
    "papermill": {
     "duration": 0.063955,
     "end_time": "2022-01-30T10:58:14.884141",
     "exception": false,
     "start_time": "2022-01-30T10:58:14.820186",
     "status": "completed"
    },
    "tags": []
   },
   "source": [
    "We have 4 catetgories in fuel column with diesel cars leading and very few LPG,CNG cars (35, 52) respectively"
   ]
  },
  {
   "cell_type": "code",
   "execution_count": 23,
   "metadata": {
    "execution": {
     "iopub.execute_input": "2022-01-30T10:58:15.014393Z",
     "iopub.status.busy": "2022-01-30T10:58:15.013328Z",
     "iopub.status.idle": "2022-01-30T10:58:15.022354Z",
     "shell.execute_reply": "2022-01-30T10:58:15.021759Z",
     "shell.execute_reply.started": "2022-01-30T10:53:26.863657Z"
    },
    "papermill": {
     "duration": 0.075364,
     "end_time": "2022-01-30T10:58:15.022506",
     "exception": false,
     "start_time": "2022-01-30T10:58:14.947142",
     "status": "completed"
    },
    "tags": []
   },
   "outputs": [
    {
     "data": {
      "text/plain": [
       "Individual          6563\n",
       "Dealer              1107\n",
       "Trustmark Dealer     236\n",
       "Name: seller_type, dtype: int64"
      ]
     },
     "execution_count": 23,
     "metadata": {},
     "output_type": "execute_result"
    }
   ],
   "source": [
    "df[\"seller_type\"].value_counts()"
   ]
  },
  {
   "cell_type": "code",
   "execution_count": 24,
   "metadata": {
    "execution": {
     "iopub.execute_input": "2022-01-30T10:58:15.151160Z",
     "iopub.status.busy": "2022-01-30T10:58:15.150229Z",
     "iopub.status.idle": "2022-01-30T10:58:15.321149Z",
     "shell.execute_reply": "2022-01-30T10:58:15.321692Z",
     "shell.execute_reply.started": "2022-01-30T10:53:26.876213Z"
    },
    "papermill": {
     "duration": 0.236955,
     "end_time": "2022-01-30T10:58:15.321873",
     "exception": false,
     "start_time": "2022-01-30T10:58:15.084918",
     "status": "completed"
    },
    "tags": []
   },
   "outputs": [
    {
     "data": {
      "image/png": "[encoded data removed]",
      "text/plain": [
       "<Figure size 432x288 with 1 Axes>"
      ]
     },
     "metadata": {
      "needs_background": "light"
     },
     "output_type": "display_data"
    }
   ],
   "source": [
    "sns.countplot(x='seller_type', data=df)\n",
    "plt.show()"
   ]
  },
  {
   "cell_type": "markdown",
   "metadata": {
    "papermill": {
     "duration": 0.062905,
     "end_time": "2022-01-30T10:58:15.448002",
     "exception": false,
     "start_time": "2022-01-30T10:58:15.385097",
     "status": "completed"
    },
    "tags": []
   },
   "source": [
    "Most of the sellers (6563) in this platform are individuals"
   ]
  },
  {
   "cell_type": "code",
   "execution_count": 25,
   "metadata": {
    "execution": {
     "iopub.execute_input": "2022-01-30T10:58:15.582644Z",
     "iopub.status.busy": "2022-01-30T10:58:15.577110Z",
     "iopub.status.idle": "2022-01-30T10:58:15.586204Z",
     "shell.execute_reply": "2022-01-30T10:58:15.585599Z",
     "shell.execute_reply.started": "2022-01-30T10:53:27.060651Z"
    },
    "papermill": {
     "duration": 0.075526,
     "end_time": "2022-01-30T10:58:15.586342",
     "exception": false,
     "start_time": "2022-01-30T10:58:15.510816",
     "status": "completed"
    },
    "tags": []
   },
   "outputs": [
    {
     "data": {
      "text/plain": [
       "Manual       6865\n",
       "Automatic    1041\n",
       "Name: transmission, dtype: int64"
      ]
     },
     "execution_count": 25,
     "metadata": {},
     "output_type": "execute_result"
    }
   ],
   "source": [
    "df[\"transmission\"].value_counts()"
   ]
  },
  {
   "cell_type": "code",
   "execution_count": 26,
   "metadata": {
    "execution": {
     "iopub.execute_input": "2022-01-30T10:58:15.718742Z",
     "iopub.status.busy": "2022-01-30T10:58:15.718065Z",
     "iopub.status.idle": "2022-01-30T10:58:15.883744Z",
     "shell.execute_reply": "2022-01-30T10:58:15.884229Z",
     "shell.execute_reply.started": "2022-01-30T10:53:27.099530Z"
    },
    "papermill": {
     "duration": 0.234946,
     "end_time": "2022-01-30T10:58:15.884394",
     "exception": false,
     "start_time": "2022-01-30T10:58:15.649448",
     "status": "completed"
    },
    "tags": []
   },
   "outputs": [
    {
     "data": {
      "image/png": "[encoded data removed]",
      "text/plain": [
       "<Figure size 432x288 with 1 Axes>"
      ]
     },
     "metadata": {
      "needs_background": "light"
     },
     "output_type": "display_data"
    }
   ],
   "source": [
    "sns.countplot(x='transmission', data=df)\n",
    "plt.show()"
   ]
  },
  {
   "cell_type": "markdown",
   "metadata": {
    "papermill": {
     "duration": 0.06354,
     "end_time": "2022-01-30T10:58:16.013740",
     "exception": false,
     "start_time": "2022-01-30T10:58:15.950200",
     "status": "completed"
    },
    "tags": []
   },
   "source": [
    "over 6865 cars transmission type is manual"
   ]
  },
  {
   "cell_type": "code",
   "execution_count": 27,
   "metadata": {
    "execution": {
     "iopub.execute_input": "2022-01-30T10:58:16.154640Z",
     "iopub.status.busy": "2022-01-30T10:58:16.153554Z",
     "iopub.status.idle": "2022-01-30T10:58:16.157519Z",
     "shell.execute_reply": "2022-01-30T10:58:16.156977Z",
     "shell.execute_reply.started": "2022-01-30T10:53:27.277532Z"
    },
    "papermill": {
     "duration": 0.07867,
     "end_time": "2022-01-30T10:58:16.157657",
     "exception": false,
     "start_time": "2022-01-30T10:58:16.078987",
     "status": "completed"
    },
    "tags": []
   },
   "outputs": [
    {
     "data": {
      "text/plain": [
       "First Owner             5215\n",
       "Second Owner            2016\n",
       "Third Owner              510\n",
       "Fourth & Above Owner     160\n",
       "Test Drive Car             5\n",
       "Name: owner, dtype: int64"
      ]
     },
     "execution_count": 27,
     "metadata": {},
     "output_type": "execute_result"
    }
   ],
   "source": [
    "df[\"owner\"].value_counts()"
   ]
  },
  {
   "cell_type": "code",
   "execution_count": 28,
   "metadata": {
    "execution": {
     "iopub.execute_input": "2022-01-30T10:58:16.294541Z",
     "iopub.status.busy": "2022-01-30T10:58:16.293893Z",
     "iopub.status.idle": "2022-01-30T10:58:16.475240Z",
     "shell.execute_reply": "2022-01-30T10:58:16.474754Z",
     "shell.execute_reply.started": "2022-01-30T10:53:27.356880Z"
    },
    "papermill": {
     "duration": 0.253162,
     "end_time": "2022-01-30T10:58:16.475373",
     "exception": false,
     "start_time": "2022-01-30T10:58:16.222211",
     "status": "completed"
    },
    "tags": []
   },
   "outputs": [
    {
     "data": {
      "image/png": "[encoded data removed]",
      "text/plain": [
       "<Figure size 432x288 with 1 Axes>"
      ]
     },
     "metadata": {
      "needs_background": "light"
     },
     "output_type": "display_data"
    }
   ],
   "source": [
    "sns.countplot(x='owner', data=df)\n",
    "plt.show()"
   ]
  },
  {
   "cell_type": "markdown",
   "metadata": {
    "papermill": {
     "duration": 0.064976,
     "end_time": "2022-01-30T10:58:16.605814",
     "exception": false,
     "start_time": "2022-01-30T10:58:16.540838",
     "status": "completed"
    },
    "tags": []
   },
   "source": [
    "Most of the cars are single owner "
   ]
  },
  {
   "cell_type": "code",
   "execution_count": 29,
   "metadata": {
    "execution": {
     "iopub.execute_input": "2022-01-30T10:58:16.745804Z",
     "iopub.status.busy": "2022-01-30T10:58:16.745076Z",
     "iopub.status.idle": "2022-01-30T10:58:16.945594Z",
     "shell.execute_reply": "2022-01-30T10:58:16.946133Z",
     "shell.execute_reply.started": "2022-01-30T10:53:27.550013Z"
    },
    "papermill": {
     "duration": 0.275461,
     "end_time": "2022-01-30T10:58:16.946300",
     "exception": false,
     "start_time": "2022-01-30T10:58:16.670839",
     "status": "completed"
    },
    "tags": []
   },
   "outputs": [
    {
     "data": {
      "image/png": "[encoded data removed]",
      "text/plain": [
       "<Figure size 432x288 with 1 Axes>"
      ]
     },
     "metadata": {
      "needs_background": "light"
     },
     "output_type": "display_data"
    }
   ],
   "source": [
    "sns.countplot(x='seats', data=df)\n",
    "plt.show()"
   ]
  },
  {
   "cell_type": "markdown",
   "metadata": {
    "papermill": {
     "duration": 0.066013,
     "end_time": "2022-01-30T10:58:17.079942",
     "exception": false,
     "start_time": "2022-01-30T10:58:17.013929",
     "status": "completed"
    },
    "tags": []
   },
   "source": [
    "Most of them are 5 seater cars followed by 7 seater cars"
   ]
  },
  {
   "cell_type": "code",
   "execution_count": 30,
   "metadata": {
    "execution": {
     "iopub.execute_input": "2022-01-30T10:58:17.217158Z",
     "iopub.status.busy": "2022-01-30T10:58:17.214843Z",
     "iopub.status.idle": "2022-01-30T10:58:17.377436Z",
     "shell.execute_reply": "2022-01-30T10:58:17.376867Z",
     "shell.execute_reply.started": "2022-01-30T10:53:27.757383Z"
    },
    "papermill": {
     "duration": 0.231288,
     "end_time": "2022-01-30T10:58:17.377572",
     "exception": false,
     "start_time": "2022-01-30T10:58:17.146284",
     "status": "completed"
    },
    "tags": []
   },
   "outputs": [
    {
     "data": {
      "text/plain": [
       "<AxesSubplot:xlabel='mileage'>"
      ]
     },
     "execution_count": 30,
     "metadata": {},
     "output_type": "execute_result"
    },
    {
     "data": {
      "image/png": "[encoded data removed]",
      "text/plain": [
       "<Figure size 432x288 with 1 Axes>"
      ]
     },
     "metadata": {
      "needs_background": "light"
     },
     "output_type": "display_data"
    }
   ],
   "source": [
    "sns.boxplot(x=df['mileage'])"
   ]
  },
  {
   "cell_type": "markdown",
   "metadata": {
    "papermill": {
     "duration": 0.066436,
     "end_time": "2022-01-30T10:58:17.510667",
     "exception": false,
     "start_time": "2022-01-30T10:58:17.444231",
     "status": "completed"
    },
    "tags": []
   },
   "source": [
    "from above boxplot we see some cars having 0 mileage, it does not makesense, need to drop them"
   ]
  },
  {
   "cell_type": "code",
   "execution_count": 31,
   "metadata": {
    "execution": {
     "iopub.execute_input": "2022-01-30T10:58:17.647989Z",
     "iopub.status.busy": "2022-01-30T10:58:17.647364Z",
     "iopub.status.idle": "2022-01-30T10:58:17.670225Z",
     "shell.execute_reply": "2022-01-30T10:58:17.670725Z",
     "shell.execute_reply.started": "2022-01-30T10:53:27.924995Z"
    },
    "papermill": {
     "duration": 0.092693,
     "end_time": "2022-01-30T10:58:17.670890",
     "exception": false,
     "start_time": "2022-01-30T10:58:17.578197",
     "status": "completed"
    },
    "tags": []
   },
   "outputs": [
    {
     "data": {
      "text/html": [
       "<div>\n",
       "<style scoped>\n",
       "    .dataframe tbody tr th:only-of-type {\n",
       "        vertical-align: middle;\n",
       "    }\n",
       "\n",
       "    .dataframe tbody tr th {\n",
       "        vertical-align: top;\n",
       "    }\n",
       "\n",
       "    .dataframe thead th {\n",
       "        text-align: right;\n",
       "    }\n",
       "</style>\n",
       "<table border=\"1\" class=\"dataframe\">\n",
       "  <thead>\n",
       "    <tr style=\"text-align: right;\">\n",
       "      <th></th>\n",
       "      <th>name</th>\n",
       "      <th>year</th>\n",
       "      <th>selling_price</th>\n",
       "      <th>km_driven</th>\n",
       "      <th>fuel</th>\n",
       "      <th>seller_type</th>\n",
       "      <th>transmission</th>\n",
       "      <th>owner</th>\n",
       "      <th>mileage</th>\n",
       "      <th>engine</th>\n",
       "      <th>max_power</th>\n",
       "      <th>seats</th>\n",
       "    </tr>\n",
       "  </thead>\n",
       "  <tbody>\n",
       "    <tr>\n",
       "      <th>644</th>\n",
       "      <td>Tata Indica Vista Aura Safire Anniversary Edition</td>\n",
       "      <td>2009</td>\n",
       "      <td>135000</td>\n",
       "      <td>28900</td>\n",
       "      <td>Petrol</td>\n",
       "      <td>Individual</td>\n",
       "      <td>Manual</td>\n",
       "      <td>Second Owner</td>\n",
       "      <td>0.0</td>\n",
       "      <td>1172</td>\n",
       "      <td>65.00</td>\n",
       "      <td>5.0</td>\n",
       "    </tr>\n",
       "    <tr>\n",
       "      <th>785</th>\n",
       "      <td>Hyundai Santro Xing GL</td>\n",
       "      <td>2009</td>\n",
       "      <td>120000</td>\n",
       "      <td>90000</td>\n",
       "      <td>Petrol</td>\n",
       "      <td>Individual</td>\n",
       "      <td>Manual</td>\n",
       "      <td>Second Owner</td>\n",
       "      <td>0.0</td>\n",
       "      <td>1086</td>\n",
       "      <td>62.00</td>\n",
       "      <td>5.0</td>\n",
       "    </tr>\n",
       "    <tr>\n",
       "      <th>1649</th>\n",
       "      <td>Hyundai Santro Xing GL</td>\n",
       "      <td>2008</td>\n",
       "      <td>105000</td>\n",
       "      <td>128000</td>\n",
       "      <td>Petrol</td>\n",
       "      <td>Individual</td>\n",
       "      <td>Manual</td>\n",
       "      <td>First Owner</td>\n",
       "      <td>0.0</td>\n",
       "      <td>1086</td>\n",
       "      <td>62.00</td>\n",
       "      <td>5.0</td>\n",
       "    </tr>\n",
       "    <tr>\n",
       "      <th>1676</th>\n",
       "      <td>Mercedes-Benz M-Class ML 350 4Matic</td>\n",
       "      <td>2011</td>\n",
       "      <td>1700000</td>\n",
       "      <td>110000</td>\n",
       "      <td>Diesel</td>\n",
       "      <td>Individual</td>\n",
       "      <td>Automatic</td>\n",
       "      <td>Third Owner</td>\n",
       "      <td>0.0</td>\n",
       "      <td>2987</td>\n",
       "      <td>165.00</td>\n",
       "      <td>5.0</td>\n",
       "    </tr>\n",
       "    <tr>\n",
       "      <th>2137</th>\n",
       "      <td>Land Rover Freelander 2 TD4 HSE</td>\n",
       "      <td>2013</td>\n",
       "      <td>1650000</td>\n",
       "      <td>64788</td>\n",
       "      <td>Diesel</td>\n",
       "      <td>Dealer</td>\n",
       "      <td>Automatic</td>\n",
       "      <td>First Owner</td>\n",
       "      <td>0.0</td>\n",
       "      <td>2179</td>\n",
       "      <td>115.00</td>\n",
       "      <td>5.0</td>\n",
       "    </tr>\n",
       "    <tr>\n",
       "      <th>2366</th>\n",
       "      <td>Hyundai Santro Xing (Non-AC)</td>\n",
       "      <td>2010</td>\n",
       "      <td>110000</td>\n",
       "      <td>80000</td>\n",
       "      <td>Petrol</td>\n",
       "      <td>Individual</td>\n",
       "      <td>Manual</td>\n",
       "      <td>Second Owner</td>\n",
       "      <td>0.0</td>\n",
       "      <td>1086</td>\n",
       "      <td>62.10</td>\n",
       "      <td>5.0</td>\n",
       "    </tr>\n",
       "    <tr>\n",
       "      <th>2725</th>\n",
       "      <td>Hyundai Santro Xing (Non-AC)</td>\n",
       "      <td>2013</td>\n",
       "      <td>184000</td>\n",
       "      <td>15000</td>\n",
       "      <td>Petrol</td>\n",
       "      <td>Individual</td>\n",
       "      <td>Manual</td>\n",
       "      <td>First Owner</td>\n",
       "      <td>0.0</td>\n",
       "      <td>1086</td>\n",
       "      <td>62.10</td>\n",
       "      <td>5.0</td>\n",
       "    </tr>\n",
       "    <tr>\n",
       "      <th>4527</th>\n",
       "      <td>Mercedes-Benz M-Class ML 350 4Matic</td>\n",
       "      <td>2011</td>\n",
       "      <td>1700000</td>\n",
       "      <td>110000</td>\n",
       "      <td>Diesel</td>\n",
       "      <td>Individual</td>\n",
       "      <td>Automatic</td>\n",
       "      <td>Third Owner</td>\n",
       "      <td>0.0</td>\n",
       "      <td>2987</td>\n",
       "      <td>165.00</td>\n",
       "      <td>5.0</td>\n",
       "    </tr>\n",
       "    <tr>\n",
       "      <th>5276</th>\n",
       "      <td>Hyundai Santro Xing GL</td>\n",
       "      <td>2008</td>\n",
       "      <td>175000</td>\n",
       "      <td>40000</td>\n",
       "      <td>Petrol</td>\n",
       "      <td>Individual</td>\n",
       "      <td>Manual</td>\n",
       "      <td>First Owner</td>\n",
       "      <td>0.0</td>\n",
       "      <td>1086</td>\n",
       "      <td>62.00</td>\n",
       "      <td>5.0</td>\n",
       "    </tr>\n",
       "    <tr>\n",
       "      <th>5843</th>\n",
       "      <td>Volkswagen Polo GT TSI BSIV</td>\n",
       "      <td>2014</td>\n",
       "      <td>574000</td>\n",
       "      <td>28080</td>\n",
       "      <td>Petrol</td>\n",
       "      <td>Dealer</td>\n",
       "      <td>Automatic</td>\n",
       "      <td>First Owner</td>\n",
       "      <td>0.0</td>\n",
       "      <td>1197</td>\n",
       "      <td>103.25</td>\n",
       "      <td>5.0</td>\n",
       "    </tr>\n",
       "    <tr>\n",
       "      <th>5846</th>\n",
       "      <td>Volkswagen Polo GT TSI BSIV</td>\n",
       "      <td>2014</td>\n",
       "      <td>575000</td>\n",
       "      <td>28100</td>\n",
       "      <td>Petrol</td>\n",
       "      <td>Dealer</td>\n",
       "      <td>Automatic</td>\n",
       "      <td>First Owner</td>\n",
       "      <td>0.0</td>\n",
       "      <td>1197</td>\n",
       "      <td>103.25</td>\n",
       "      <td>5.0</td>\n",
       "    </tr>\n",
       "    <tr>\n",
       "      <th>5900</th>\n",
       "      <td>Mahindra Bolero Pik-Up FB 1.7T</td>\n",
       "      <td>2020</td>\n",
       "      <td>679000</td>\n",
       "      <td>5000</td>\n",
       "      <td>Diesel</td>\n",
       "      <td>Individual</td>\n",
       "      <td>Manual</td>\n",
       "      <td>First Owner</td>\n",
       "      <td>0.0</td>\n",
       "      <td>2523</td>\n",
       "      <td>70.00</td>\n",
       "      <td>2.0</td>\n",
       "    </tr>\n",
       "    <tr>\n",
       "      <th>6534</th>\n",
       "      <td>Hyundai Santro Xing GL</td>\n",
       "      <td>2010</td>\n",
       "      <td>150000</td>\n",
       "      <td>110000</td>\n",
       "      <td>Petrol</td>\n",
       "      <td>Individual</td>\n",
       "      <td>Manual</td>\n",
       "      <td>First Owner</td>\n",
       "      <td>0.0</td>\n",
       "      <td>1086</td>\n",
       "      <td>62.00</td>\n",
       "      <td>5.0</td>\n",
       "    </tr>\n",
       "    <tr>\n",
       "      <th>6629</th>\n",
       "      <td>Mahindra Bolero Pik-Up CBC 1.7T</td>\n",
       "      <td>2019</td>\n",
       "      <td>722000</td>\n",
       "      <td>80000</td>\n",
       "      <td>Diesel</td>\n",
       "      <td>Individual</td>\n",
       "      <td>Manual</td>\n",
       "      <td>First Owner</td>\n",
       "      <td>0.0</td>\n",
       "      <td>2523</td>\n",
       "      <td>70.00</td>\n",
       "      <td>2.0</td>\n",
       "    </tr>\n",
       "    <tr>\n",
       "      <th>6824</th>\n",
       "      <td>Hyundai Santro Xing GL</td>\n",
       "      <td>2011</td>\n",
       "      <td>150000</td>\n",
       "      <td>40000</td>\n",
       "      <td>Petrol</td>\n",
       "      <td>Individual</td>\n",
       "      <td>Manual</td>\n",
       "      <td>Fourth &amp; Above Owner</td>\n",
       "      <td>0.0</td>\n",
       "      <td>1086</td>\n",
       "      <td>62.00</td>\n",
       "      <td>5.0</td>\n",
       "    </tr>\n",
       "    <tr>\n",
       "      <th>7002</th>\n",
       "      <td>Hyundai Santro Xing (Non-AC)</td>\n",
       "      <td>2010</td>\n",
       "      <td>110000</td>\n",
       "      <td>80000</td>\n",
       "      <td>Petrol</td>\n",
       "      <td>Individual</td>\n",
       "      <td>Manual</td>\n",
       "      <td>Second Owner</td>\n",
       "      <td>0.0</td>\n",
       "      <td>1086</td>\n",
       "      <td>62.10</td>\n",
       "      <td>5.0</td>\n",
       "    </tr>\n",
       "    <tr>\n",
       "      <th>7337</th>\n",
       "      <td>Mercedes-Benz GLC 220d 4MATIC</td>\n",
       "      <td>2017</td>\n",
       "      <td>3300000</td>\n",
       "      <td>60000</td>\n",
       "      <td>Diesel</td>\n",
       "      <td>Dealer</td>\n",
       "      <td>Automatic</td>\n",
       "      <td>First Owner</td>\n",
       "      <td>0.0</td>\n",
       "      <td>1950</td>\n",
       "      <td>194.00</td>\n",
       "      <td>5.0</td>\n",
       "    </tr>\n",
       "  </tbody>\n",
       "</table>\n",
       "</div>"
      ],
      "text/plain": [
       "                                                   name  year  selling_price  \\\n",
       "644   Tata Indica Vista Aura Safire Anniversary Edition  2009         135000   \n",
       "785                              Hyundai Santro Xing GL  2009         120000   \n",
       "1649                             Hyundai Santro Xing GL  2008         105000   \n",
       "1676                Mercedes-Benz M-Class ML 350 4Matic  2011        1700000   \n",
       "2137                    Land Rover Freelander 2 TD4 HSE  2013        1650000   \n",
       "2366                       Hyundai Santro Xing (Non-AC)  2010         110000   \n",
       "2725                       Hyundai Santro Xing (Non-AC)  2013         184000   \n",
       "4527                Mercedes-Benz M-Class ML 350 4Matic  2011        1700000   \n",
       "5276                             Hyundai Santro Xing GL  2008         175000   \n",
       "5843                        Volkswagen Polo GT TSI BSIV  2014         574000   \n",
       "5846                        Volkswagen Polo GT TSI BSIV  2014         575000   \n",
       "5900                     Mahindra Bolero Pik-Up FB 1.7T  2020         679000   \n",
       "6534                             Hyundai Santro Xing GL  2010         150000   \n",
       "6629                    Mahindra Bolero Pik-Up CBC 1.7T  2019         722000   \n",
       "6824                             Hyundai Santro Xing GL  2011         150000   \n",
       "7002                       Hyundai Santro Xing (Non-AC)  2010         110000   \n",
       "7337                      Mercedes-Benz GLC 220d 4MATIC  2017        3300000   \n",
       "\n",
       "      km_driven    fuel seller_type transmission                 owner  \\\n",
       "644       28900  Petrol  Individual       Manual          Second Owner   \n",
       "785       90000  Petrol  Individual       Manual          Second Owner   \n",
       "1649     128000  Petrol  Individual       Manual           First Owner   \n",
       "1676     110000  Diesel  Individual    Automatic           Third Owner   \n",
       "2137      64788  Diesel      Dealer    Automatic           First Owner   \n",
       "2366      80000  Petrol  Individual       Manual          Second Owner   \n",
       "2725      15000  Petrol  Individual       Manual           First Owner   \n",
       "4527     110000  Diesel  Individual    Automatic           Third Owner   \n",
       "5276      40000  Petrol  Individual       Manual           First Owner   \n",
       "5843      28080  Petrol      Dealer    Automatic           First Owner   \n",
       "5846      28100  Petrol      Dealer    Automatic           First Owner   \n",
       "5900       5000  Diesel  Individual       Manual           First Owner   \n",
       "6534     110000  Petrol  Individual       Manual           First Owner   \n",
       "6629      80000  Diesel  Individual       Manual           First Owner   \n",
       "6824      40000  Petrol  Individual       Manual  Fourth & Above Owner   \n",
       "7002      80000  Petrol  Individual       Manual          Second Owner   \n",
       "7337      60000  Diesel      Dealer    Automatic           First Owner   \n",
       "\n",
       "      mileage  engine  max_power  seats  \n",
       "644       0.0    1172      65.00    5.0  \n",
       "785       0.0    1086      62.00    5.0  \n",
       "1649      0.0    1086      62.00    5.0  \n",
       "1676      0.0    2987     165.00    5.0  \n",
       "2137      0.0    2179     115.00    5.0  \n",
       "2366      0.0    1086      62.10    5.0  \n",
       "2725      0.0    1086      62.10    5.0  \n",
       "4527      0.0    2987     165.00    5.0  \n",
       "5276      0.0    1086      62.00    5.0  \n",
       "5843      0.0    1197     103.25    5.0  \n",
       "5846      0.0    1197     103.25    5.0  \n",
       "5900      0.0    2523      70.00    2.0  \n",
       "6534      0.0    1086      62.00    5.0  \n",
       "6629      0.0    2523      70.00    2.0  \n",
       "6824      0.0    1086      62.00    5.0  \n",
       "7002      0.0    1086      62.10    5.0  \n",
       "7337      0.0    1950     194.00    5.0  "
      ]
     },
     "execution_count": 31,
     "metadata": {},
     "output_type": "execute_result"
    }
   ],
   "source": [
    "df[df[\"mileage\"]==0]"
   ]
  },
  {
   "cell_type": "code",
   "execution_count": 32,
   "metadata": {
    "execution": {
     "iopub.execute_input": "2022-01-30T10:58:17.811313Z",
     "iopub.status.busy": "2022-01-30T10:58:17.810663Z",
     "iopub.status.idle": "2022-01-30T10:58:17.815316Z",
     "shell.execute_reply": "2022-01-30T10:58:17.815846Z",
     "shell.execute_reply.started": "2022-01-30T10:53:28.001172Z"
    },
    "papermill": {
     "duration": 0.077571,
     "end_time": "2022-01-30T10:58:17.816029",
     "exception": false,
     "start_time": "2022-01-30T10:58:17.738458",
     "status": "completed"
    },
    "tags": []
   },
   "outputs": [],
   "source": [
    "# drop rows having 0 mileage\n",
    "df = df[df[\"mileage\"]!=0]"
   ]
  },
  {
   "cell_type": "code",
   "execution_count": 33,
   "metadata": {
    "execution": {
     "iopub.execute_input": "2022-01-30T10:58:17.954794Z",
     "iopub.status.busy": "2022-01-30T10:58:17.954161Z",
     "iopub.status.idle": "2022-01-30T10:58:18.134920Z",
     "shell.execute_reply": "2022-01-30T10:58:18.133953Z",
     "shell.execute_reply.started": "2022-01-30T10:53:28.011848Z"
    },
    "papermill": {
     "duration": 0.251335,
     "end_time": "2022-01-30T10:58:18.135077",
     "exception": false,
     "start_time": "2022-01-30T10:58:17.883742",
     "status": "completed"
    },
    "tags": []
   },
   "outputs": [
    {
     "data": {
      "text/plain": [
       "<AxesSubplot:xlabel='engine'>"
      ]
     },
     "execution_count": 33,
     "metadata": {},
     "output_type": "execute_result"
    },
    {
     "data": {
      "image/png": "[encoded data removed]",
      "text/plain": [
       "<Figure size 432x288 with 1 Axes>"
      ]
     },
     "metadata": {
      "needs_background": "light"
     },
     "output_type": "display_data"
    }
   ],
   "source": [
    "sns.boxplot(x=df['engine'])"
   ]
  },
  {
   "cell_type": "code",
   "execution_count": 34,
   "metadata": {
    "execution": {
     "iopub.execute_input": "2022-01-30T10:58:18.277518Z",
     "iopub.status.busy": "2022-01-30T10:58:18.276520Z",
     "iopub.status.idle": "2022-01-30T10:58:18.295192Z",
     "shell.execute_reply": "2022-01-30T10:58:18.295768Z",
     "shell.execute_reply.started": "2022-01-30T10:53:28.198834Z"
    },
    "papermill": {
     "duration": 0.091438,
     "end_time": "2022-01-30T10:58:18.295937",
     "exception": false,
     "start_time": "2022-01-30T10:58:18.204499",
     "status": "completed"
    },
    "tags": []
   },
   "outputs": [
    {
     "data": {
      "text/html": [
       "<div>\n",
       "<style scoped>\n",
       "    .dataframe tbody tr th:only-of-type {\n",
       "        vertical-align: middle;\n",
       "    }\n",
       "\n",
       "    .dataframe tbody tr th {\n",
       "        vertical-align: top;\n",
       "    }\n",
       "\n",
       "    .dataframe thead th {\n",
       "        text-align: right;\n",
       "    }\n",
       "</style>\n",
       "<table border=\"1\" class=\"dataframe\">\n",
       "  <thead>\n",
       "    <tr style=\"text-align: right;\">\n",
       "      <th></th>\n",
       "      <th>name</th>\n",
       "      <th>year</th>\n",
       "      <th>selling_price</th>\n",
       "      <th>km_driven</th>\n",
       "      <th>fuel</th>\n",
       "      <th>seller_type</th>\n",
       "      <th>transmission</th>\n",
       "      <th>owner</th>\n",
       "      <th>mileage</th>\n",
       "      <th>engine</th>\n",
       "      <th>max_power</th>\n",
       "      <th>seats</th>\n",
       "    </tr>\n",
       "  </thead>\n",
       "  <tbody>\n",
       "    <tr>\n",
       "      <th>134</th>\n",
       "      <td>Jeep Wrangler 2016-2019 3.6 4X4</td>\n",
       "      <td>2017</td>\n",
       "      <td>4100000</td>\n",
       "      <td>17000</td>\n",
       "      <td>Petrol</td>\n",
       "      <td>Individual</td>\n",
       "      <td>Automatic</td>\n",
       "      <td>First Owner</td>\n",
       "      <td>9.5</td>\n",
       "      <td>3604</td>\n",
       "      <td>280.0</td>\n",
       "      <td>5.0</td>\n",
       "    </tr>\n",
       "    <tr>\n",
       "      <th>1564</th>\n",
       "      <td>Jeep Wrangler 2016-2019 3.6 4X4</td>\n",
       "      <td>2017</td>\n",
       "      <td>4100000</td>\n",
       "      <td>17000</td>\n",
       "      <td>Petrol</td>\n",
       "      <td>Individual</td>\n",
       "      <td>Automatic</td>\n",
       "      <td>First Owner</td>\n",
       "      <td>9.5</td>\n",
       "      <td>3604</td>\n",
       "      <td>280.0</td>\n",
       "      <td>5.0</td>\n",
       "    </tr>\n",
       "    <tr>\n",
       "      <th>1860</th>\n",
       "      <td>Jeep Wrangler 2016-2019 3.6 4X4</td>\n",
       "      <td>2017</td>\n",
       "      <td>4100000</td>\n",
       "      <td>17000</td>\n",
       "      <td>Petrol</td>\n",
       "      <td>Individual</td>\n",
       "      <td>Automatic</td>\n",
       "      <td>First Owner</td>\n",
       "      <td>9.5</td>\n",
       "      <td>3604</td>\n",
       "      <td>280.0</td>\n",
       "      <td>5.0</td>\n",
       "    </tr>\n",
       "    <tr>\n",
       "      <th>3239</th>\n",
       "      <td>Jeep Wrangler 2016-2019 3.6 4X4</td>\n",
       "      <td>2017</td>\n",
       "      <td>4100000</td>\n",
       "      <td>17000</td>\n",
       "      <td>Petrol</td>\n",
       "      <td>Individual</td>\n",
       "      <td>Automatic</td>\n",
       "      <td>First Owner</td>\n",
       "      <td>9.5</td>\n",
       "      <td>3604</td>\n",
       "      <td>280.0</td>\n",
       "      <td>5.0</td>\n",
       "    </tr>\n",
       "    <tr>\n",
       "      <th>5248</th>\n",
       "      <td>Jeep Wrangler 2016-2019 3.6 4X4</td>\n",
       "      <td>2017</td>\n",
       "      <td>4100000</td>\n",
       "      <td>17000</td>\n",
       "      <td>Petrol</td>\n",
       "      <td>Individual</td>\n",
       "      <td>Automatic</td>\n",
       "      <td>First Owner</td>\n",
       "      <td>9.5</td>\n",
       "      <td>3604</td>\n",
       "      <td>280.0</td>\n",
       "      <td>5.0</td>\n",
       "    </tr>\n",
       "    <tr>\n",
       "      <th>7703</th>\n",
       "      <td>Jeep Wrangler 2016-2019 3.6 4X4</td>\n",
       "      <td>2017</td>\n",
       "      <td>4100000</td>\n",
       "      <td>17000</td>\n",
       "      <td>Petrol</td>\n",
       "      <td>Individual</td>\n",
       "      <td>Automatic</td>\n",
       "      <td>First Owner</td>\n",
       "      <td>9.5</td>\n",
       "      <td>3604</td>\n",
       "      <td>280.0</td>\n",
       "      <td>5.0</td>\n",
       "    </tr>\n",
       "  </tbody>\n",
       "</table>\n",
       "</div>"
      ],
      "text/plain": [
       "                                 name  year  selling_price  km_driven    fuel  \\\n",
       "134   Jeep Wrangler 2016-2019 3.6 4X4  2017        4100000      17000  Petrol   \n",
       "1564  Jeep Wrangler 2016-2019 3.6 4X4  2017        4100000      17000  Petrol   \n",
       "1860  Jeep Wrangler 2016-2019 3.6 4X4  2017        4100000      17000  Petrol   \n",
       "3239  Jeep Wrangler 2016-2019 3.6 4X4  2017        4100000      17000  Petrol   \n",
       "5248  Jeep Wrangler 2016-2019 3.6 4X4  2017        4100000      17000  Petrol   \n",
       "7703  Jeep Wrangler 2016-2019 3.6 4X4  2017        4100000      17000  Petrol   \n",
       "\n",
       "     seller_type transmission        owner  mileage  engine  max_power  seats  \n",
       "134   Individual    Automatic  First Owner      9.5    3604      280.0    5.0  \n",
       "1564  Individual    Automatic  First Owner      9.5    3604      280.0    5.0  \n",
       "1860  Individual    Automatic  First Owner      9.5    3604      280.0    5.0  \n",
       "3239  Individual    Automatic  First Owner      9.5    3604      280.0    5.0  \n",
       "5248  Individual    Automatic  First Owner      9.5    3604      280.0    5.0  \n",
       "7703  Individual    Automatic  First Owner      9.5    3604      280.0    5.0  "
      ]
     },
     "execution_count": 34,
     "metadata": {},
     "output_type": "execute_result"
    }
   ],
   "source": [
    "df[df[\"engine\"]>3500]"
   ]
  },
  {
   "cell_type": "markdown",
   "metadata": {
    "papermill": {
     "duration": 0.068872,
     "end_time": "2022-01-30T10:58:18.433833",
     "exception": false,
     "start_time": "2022-01-30T10:58:18.364961",
     "status": "completed"
    },
    "tags": []
   },
   "source": [
    "We see all above rows contain same information, lets keep only unique rows dopping duplicates"
   ]
  },
  {
   "cell_type": "code",
   "execution_count": 35,
   "metadata": {
    "execution": {
     "iopub.execute_input": "2022-01-30T10:58:18.577278Z",
     "iopub.status.busy": "2022-01-30T10:58:18.576639Z",
     "iopub.status.idle": "2022-01-30T10:58:18.586458Z",
     "shell.execute_reply": "2022-01-30T10:58:18.586988Z",
     "shell.execute_reply.started": "2022-01-30T10:53:28.285969Z"
    },
    "papermill": {
     "duration": 0.084576,
     "end_time": "2022-01-30T10:58:18.587158",
     "exception": false,
     "start_time": "2022-01-30T10:58:18.502582",
     "status": "completed"
    },
    "tags": []
   },
   "outputs": [],
   "source": [
    "df = df.drop_duplicates()"
   ]
  },
  {
   "cell_type": "code",
   "execution_count": 36,
   "metadata": {
    "execution": {
     "iopub.execute_input": "2022-01-30T10:58:18.730026Z",
     "iopub.status.busy": "2022-01-30T10:58:18.728233Z",
     "iopub.status.idle": "2022-01-30T10:58:18.745936Z",
     "shell.execute_reply": "2022-01-30T10:58:18.746502Z",
     "shell.execute_reply.started": "2022-01-30T10:53:28.360515Z"
    },
    "papermill": {
     "duration": 0.090016,
     "end_time": "2022-01-30T10:58:18.746665",
     "exception": false,
     "start_time": "2022-01-30T10:58:18.656649",
     "status": "completed"
    },
    "tags": []
   },
   "outputs": [
    {
     "data": {
      "text/html": [
       "<div>\n",
       "<style scoped>\n",
       "    .dataframe tbody tr th:only-of-type {\n",
       "        vertical-align: middle;\n",
       "    }\n",
       "\n",
       "    .dataframe tbody tr th {\n",
       "        vertical-align: top;\n",
       "    }\n",
       "\n",
       "    .dataframe thead th {\n",
       "        text-align: right;\n",
       "    }\n",
       "</style>\n",
       "<table border=\"1\" class=\"dataframe\">\n",
       "  <thead>\n",
       "    <tr style=\"text-align: right;\">\n",
       "      <th></th>\n",
       "      <th>name</th>\n",
       "      <th>year</th>\n",
       "      <th>selling_price</th>\n",
       "      <th>km_driven</th>\n",
       "      <th>fuel</th>\n",
       "      <th>seller_type</th>\n",
       "      <th>transmission</th>\n",
       "      <th>owner</th>\n",
       "      <th>mileage</th>\n",
       "      <th>engine</th>\n",
       "      <th>max_power</th>\n",
       "      <th>seats</th>\n",
       "    </tr>\n",
       "  </thead>\n",
       "  <tbody>\n",
       "    <tr>\n",
       "      <th>134</th>\n",
       "      <td>Jeep Wrangler 2016-2019 3.6 4X4</td>\n",
       "      <td>2017</td>\n",
       "      <td>4100000</td>\n",
       "      <td>17000</td>\n",
       "      <td>Petrol</td>\n",
       "      <td>Individual</td>\n",
       "      <td>Automatic</td>\n",
       "      <td>First Owner</td>\n",
       "      <td>9.50</td>\n",
       "      <td>3604</td>\n",
       "      <td>280.0</td>\n",
       "      <td>5.0</td>\n",
       "    </tr>\n",
       "    <tr>\n",
       "      <th>1530</th>\n",
       "      <td>Ford Endeavour 3.2 Titanium AT 4X4</td>\n",
       "      <td>2018</td>\n",
       "      <td>3250000</td>\n",
       "      <td>12000</td>\n",
       "      <td>Diesel</td>\n",
       "      <td>Individual</td>\n",
       "      <td>Automatic</td>\n",
       "      <td>First Owner</td>\n",
       "      <td>10.91</td>\n",
       "      <td>3198</td>\n",
       "      <td>197.0</td>\n",
       "      <td>7.0</td>\n",
       "    </tr>\n",
       "    <tr>\n",
       "      <th>1923</th>\n",
       "      <td>Ford Endeavour 3.2 Titanium AT 4X4</td>\n",
       "      <td>2016</td>\n",
       "      <td>2280000</td>\n",
       "      <td>120000</td>\n",
       "      <td>Diesel</td>\n",
       "      <td>Individual</td>\n",
       "      <td>Automatic</td>\n",
       "      <td>Second Owner</td>\n",
       "      <td>10.91</td>\n",
       "      <td>3198</td>\n",
       "      <td>197.0</td>\n",
       "      <td>7.0</td>\n",
       "    </tr>\n",
       "    <tr>\n",
       "      <th>3214</th>\n",
       "      <td>Ford Endeavour 3.2 Titanium AT 4X4</td>\n",
       "      <td>2016</td>\n",
       "      <td>2100000</td>\n",
       "      <td>80000</td>\n",
       "      <td>Diesel</td>\n",
       "      <td>Individual</td>\n",
       "      <td>Automatic</td>\n",
       "      <td>First Owner</td>\n",
       "      <td>10.91</td>\n",
       "      <td>3198</td>\n",
       "      <td>197.0</td>\n",
       "      <td>7.0</td>\n",
       "    </tr>\n",
       "    <tr>\n",
       "      <th>5962</th>\n",
       "      <td>Mercedes-Benz E-Class E350 Petrol</td>\n",
       "      <td>2009</td>\n",
       "      <td>1000000</td>\n",
       "      <td>80000</td>\n",
       "      <td>Petrol</td>\n",
       "      <td>Individual</td>\n",
       "      <td>Automatic</td>\n",
       "      <td>Third Owner</td>\n",
       "      <td>10.93</td>\n",
       "      <td>3498</td>\n",
       "      <td>272.0</td>\n",
       "      <td>5.0</td>\n",
       "    </tr>\n",
       "    <tr>\n",
       "      <th>6468</th>\n",
       "      <td>Ford Endeavour 3.2 Titanium AT 4X4</td>\n",
       "      <td>2018</td>\n",
       "      <td>3200000</td>\n",
       "      <td>35000</td>\n",
       "      <td>Diesel</td>\n",
       "      <td>Individual</td>\n",
       "      <td>Automatic</td>\n",
       "      <td>First Owner</td>\n",
       "      <td>10.91</td>\n",
       "      <td>3198</td>\n",
       "      <td>197.0</td>\n",
       "      <td>7.0</td>\n",
       "    </tr>\n",
       "  </tbody>\n",
       "</table>\n",
       "</div>"
      ],
      "text/plain": [
       "                                    name  year  selling_price  km_driven  \\\n",
       "134      Jeep Wrangler 2016-2019 3.6 4X4  2017        4100000      17000   \n",
       "1530  Ford Endeavour 3.2 Titanium AT 4X4  2018        3250000      12000   \n",
       "1923  Ford Endeavour 3.2 Titanium AT 4X4  2016        2280000     120000   \n",
       "3214  Ford Endeavour 3.2 Titanium AT 4X4  2016        2100000      80000   \n",
       "5962   Mercedes-Benz E-Class E350 Petrol  2009        1000000      80000   \n",
       "6468  Ford Endeavour 3.2 Titanium AT 4X4  2018        3200000      35000   \n",
       "\n",
       "        fuel seller_type transmission         owner  mileage  engine  \\\n",
       "134   Petrol  Individual    Automatic   First Owner     9.50    3604   \n",
       "1530  Diesel  Individual    Automatic   First Owner    10.91    3198   \n",
       "1923  Diesel  Individual    Automatic  Second Owner    10.91    3198   \n",
       "3214  Diesel  Individual    Automatic   First Owner    10.91    3198   \n",
       "5962  Petrol  Individual    Automatic   Third Owner    10.93    3498   \n",
       "6468  Diesel  Individual    Automatic   First Owner    10.91    3198   \n",
       "\n",
       "      max_power  seats  \n",
       "134       280.0    5.0  \n",
       "1530      197.0    7.0  \n",
       "1923      197.0    7.0  \n",
       "3214      197.0    7.0  \n",
       "5962      272.0    5.0  \n",
       "6468      197.0    7.0  "
      ]
     },
     "execution_count": 36,
     "metadata": {},
     "output_type": "execute_result"
    }
   ],
   "source": [
    "df[df[\"engine\"]>3000]"
   ]
  },
  {
   "cell_type": "markdown",
   "metadata": {
    "papermill": {
     "duration": 0.070613,
     "end_time": "2022-01-30T10:58:18.888871",
     "exception": false,
     "start_time": "2022-01-30T10:58:18.818258",
     "status": "completed"
    },
    "tags": []
   },
   "source": [
    "we have some high end cars having high engine cc"
   ]
  },
  {
   "cell_type": "code",
   "execution_count": 37,
   "metadata": {
    "execution": {
     "iopub.execute_input": "2022-01-30T10:58:19.041725Z",
     "iopub.status.busy": "2022-01-30T10:58:19.041025Z",
     "iopub.status.idle": "2022-01-30T10:58:19.346168Z",
     "shell.execute_reply": "2022-01-30T10:58:19.345610Z",
     "shell.execute_reply.started": "2022-01-30T10:53:28.514403Z"
    },
    "papermill": {
     "duration": 0.386151,
     "end_time": "2022-01-30T10:58:19.346303",
     "exception": false,
     "start_time": "2022-01-30T10:58:18.960152",
     "status": "completed"
    },
    "tags": []
   },
   "outputs": [
    {
     "name": "stderr",
     "output_type": "stream",
     "text": [
      "C:\\Users\\jothi\\anaconda3\\lib\\site-packages\\seaborn\\distributions.py:2551: FutureWarning: `distplot` is a deprecated function and will be removed in a future version. Please adapt your code to use either `displot` (a figure-level function with similar flexibility) or `histplot` (an axes-level function for histograms).\n",
      "  warnings.warn(msg, FutureWarning)\n"
     ]
    },
    {
     "data": {
      "image/png": "[encoded data removed]",
      "text/plain": [
       "<Figure size 432x288 with 1 Axes>"
      ]
     },
     "metadata": {
      "needs_background": "light"
     },
     "output_type": "display_data"
    }
   ],
   "source": [
    "sns.distplot(df[\"selling_price\"], hist=True, kde=True, bins=40).set_title('Distribution of Sale Price')\n",
    "plt.show()"
   ]
  },
  {
   "cell_type": "markdown",
   "metadata": {
    "papermill": {
     "duration": 0.070809,
     "end_time": "2022-01-30T10:58:19.489884",
     "exception": false,
     "start_time": "2022-01-30T10:58:19.419075",
     "status": "completed"
    },
    "tags": []
   },
   "source": [
    "selling_price is positively skewed"
   ]
  },
  {
   "cell_type": "code",
   "execution_count": 38,
   "metadata": {
    "execution": {
     "iopub.execute_input": "2022-01-30T10:58:19.635367Z",
     "iopub.status.busy": "2022-01-30T10:58:19.634395Z",
     "iopub.status.idle": "2022-01-30T10:58:28.725031Z",
     "shell.execute_reply": "2022-01-30T10:58:28.725604Z",
     "shell.execute_reply.started": "2022-01-30T10:53:28.848867Z"
    },
    "papermill": {
     "duration": 9.165552,
     "end_time": "2022-01-30T10:58:28.725782",
     "exception": false,
     "start_time": "2022-01-30T10:58:19.560230",
     "status": "completed"
    },
    "tags": []
   },
   "outputs": [
    {
     "name": "stderr",
     "output_type": "stream",
     "text": [
      "C:\\Users\\jothi\\anaconda3\\lib\\site-packages\\seaborn\\axisgrid.py:1912: UserWarning: The `size` parameter has been renamed to `height`; please update your code.\n",
      "  warnings.warn(msg, UserWarning)\n"
     ]
    },
    {
     "data": {
      "image/png": "[encoded data removed]",
      "text/plain": [
       "<Figure size 1512x1512 with 56 Axes>"
      ]
     },
     "metadata": {
      "needs_background": "light"
     },
     "output_type": "display_data"
    }
   ],
   "source": [
    "sns.pairplot(df, size = 3)\n",
    "plt.show()"
   ]
  },
  {
   "cell_type": "markdown",
   "metadata": {
    "papermill": {
     "duration": 0.081589,
     "end_time": "2022-01-30T10:58:28.889604",
     "exception": false,
     "start_time": "2022-01-30T10:58:28.808015",
     "status": "completed"
    },
    "tags": []
   },
   "source": [
    "#### Feature Engineering"
   ]
  },
  {
   "cell_type": "code",
   "execution_count": 39,
   "metadata": {
    "execution": {
     "iopub.execute_input": "2022-01-30T10:58:29.058455Z",
     "iopub.status.busy": "2022-01-30T10:58:29.057379Z",
     "iopub.status.idle": "2022-01-30T10:58:29.065152Z",
     "shell.execute_reply": "2022-01-30T10:58:29.065746Z",
     "shell.execute_reply.started": "2022-01-30T10:53:38.148861Z"
    },
    "papermill": {
     "duration": 0.093395,
     "end_time": "2022-01-30T10:58:29.065930",
     "exception": false,
     "start_time": "2022-01-30T10:58:28.972535",
     "status": "completed"
    },
    "tags": []
   },
   "outputs": [],
   "source": [
    "# let's extact how many years old the car is from year column and drop year column\n",
    "\n",
    "df[\"old\"] = 2022-df[\"year\"]\n",
    "df.drop([\"year\"],axis=1,inplace=True)"
   ]
  },
  {
   "cell_type": "code",
   "execution_count": 40,
   "metadata": {
    "execution": {
     "iopub.execute_input": "2022-01-30T10:58:29.235602Z",
     "iopub.status.busy": "2022-01-30T10:58:29.234494Z",
     "iopub.status.idle": "2022-01-30T10:58:29.251756Z",
     "shell.execute_reply": "2022-01-30T10:58:29.252298Z",
     "shell.execute_reply.started": "2022-01-30T10:53:38.158734Z"
    },
    "papermill": {
     "duration": 0.103761,
     "end_time": "2022-01-30T10:58:29.252487",
     "exception": false,
     "start_time": "2022-01-30T10:58:29.148726",
     "status": "completed"
    },
    "tags": []
   },
   "outputs": [
    {
     "data": {
      "text/html": [
       "<div>\n",
       "<style scoped>\n",
       "    .dataframe tbody tr th:only-of-type {\n",
       "        vertical-align: middle;\n",
       "    }\n",
       "\n",
       "    .dataframe tbody tr th {\n",
       "        vertical-align: top;\n",
       "    }\n",
       "\n",
       "    .dataframe thead th {\n",
       "        text-align: right;\n",
       "    }\n",
       "</style>\n",
       "<table border=\"1\" class=\"dataframe\">\n",
       "  <thead>\n",
       "    <tr style=\"text-align: right;\">\n",
       "      <th></th>\n",
       "      <th>name</th>\n",
       "      <th>selling_price</th>\n",
       "      <th>km_driven</th>\n",
       "      <th>fuel</th>\n",
       "      <th>seller_type</th>\n",
       "      <th>transmission</th>\n",
       "      <th>owner</th>\n",
       "      <th>mileage</th>\n",
       "      <th>engine</th>\n",
       "      <th>max_power</th>\n",
       "      <th>seats</th>\n",
       "      <th>old</th>\n",
       "    </tr>\n",
       "  </thead>\n",
       "  <tbody>\n",
       "    <tr>\n",
       "      <th>0</th>\n",
       "      <td>Maruti Swift Dzire VDI</td>\n",
       "      <td>450000</td>\n",
       "      <td>145500</td>\n",
       "      <td>Diesel</td>\n",
       "      <td>Individual</td>\n",
       "      <td>Manual</td>\n",
       "      <td>First Owner</td>\n",
       "      <td>23.40</td>\n",
       "      <td>1248</td>\n",
       "      <td>74.00</td>\n",
       "      <td>5.0</td>\n",
       "      <td>8</td>\n",
       "    </tr>\n",
       "    <tr>\n",
       "      <th>1</th>\n",
       "      <td>Skoda Rapid 1.5 TDI Ambition</td>\n",
       "      <td>370000</td>\n",
       "      <td>120000</td>\n",
       "      <td>Diesel</td>\n",
       "      <td>Individual</td>\n",
       "      <td>Manual</td>\n",
       "      <td>Second Owner</td>\n",
       "      <td>21.14</td>\n",
       "      <td>1498</td>\n",
       "      <td>103.52</td>\n",
       "      <td>5.0</td>\n",
       "      <td>8</td>\n",
       "    </tr>\n",
       "    <tr>\n",
       "      <th>2</th>\n",
       "      <td>Honda City 2017-2020 EXi</td>\n",
       "      <td>158000</td>\n",
       "      <td>140000</td>\n",
       "      <td>Petrol</td>\n",
       "      <td>Individual</td>\n",
       "      <td>Manual</td>\n",
       "      <td>Third Owner</td>\n",
       "      <td>17.70</td>\n",
       "      <td>1497</td>\n",
       "      <td>78.00</td>\n",
       "      <td>5.0</td>\n",
       "      <td>16</td>\n",
       "    </tr>\n",
       "    <tr>\n",
       "      <th>3</th>\n",
       "      <td>Hyundai i20 Sportz Diesel</td>\n",
       "      <td>225000</td>\n",
       "      <td>127000</td>\n",
       "      <td>Diesel</td>\n",
       "      <td>Individual</td>\n",
       "      <td>Manual</td>\n",
       "      <td>First Owner</td>\n",
       "      <td>23.00</td>\n",
       "      <td>1396</td>\n",
       "      <td>90.00</td>\n",
       "      <td>5.0</td>\n",
       "      <td>12</td>\n",
       "    </tr>\n",
       "    <tr>\n",
       "      <th>4</th>\n",
       "      <td>Maruti Swift VXI BSIII</td>\n",
       "      <td>130000</td>\n",
       "      <td>120000</td>\n",
       "      <td>Petrol</td>\n",
       "      <td>Individual</td>\n",
       "      <td>Manual</td>\n",
       "      <td>First Owner</td>\n",
       "      <td>16.10</td>\n",
       "      <td>1298</td>\n",
       "      <td>88.20</td>\n",
       "      <td>5.0</td>\n",
       "      <td>15</td>\n",
       "    </tr>\n",
       "  </tbody>\n",
       "</table>\n",
       "</div>"
      ],
      "text/plain": [
       "                           name  selling_price  km_driven    fuel seller_type  \\\n",
       "0        Maruti Swift Dzire VDI         450000     145500  Diesel  Individual   \n",
       "1  Skoda Rapid 1.5 TDI Ambition         370000     120000  Diesel  Individual   \n",
       "2      Honda City 2017-2020 EXi         158000     140000  Petrol  Individual   \n",
       "3     Hyundai i20 Sportz Diesel         225000     127000  Diesel  Individual   \n",
       "4        Maruti Swift VXI BSIII         130000     120000  Petrol  Individual   \n",
       "\n",
       "  transmission         owner  mileage  engine  max_power  seats  old  \n",
       "0       Manual   First Owner    23.40    1248      74.00    5.0    8  \n",
       "1       Manual  Second Owner    21.14    1498     103.52    5.0    8  \n",
       "2       Manual   Third Owner    17.70    1497      78.00    5.0   16  \n",
       "3       Manual   First Owner    23.00    1396      90.00    5.0   12  \n",
       "4       Manual   First Owner    16.10    1298      88.20    5.0   15  "
      ]
     },
     "execution_count": 40,
     "metadata": {},
     "output_type": "execute_result"
    }
   ],
   "source": [
    "df.head()"
   ]
  },
  {
   "cell_type": "code",
   "execution_count": 41,
   "metadata": {
    "execution": {
     "iopub.execute_input": "2022-01-30T10:58:29.421200Z",
     "iopub.status.busy": "2022-01-30T10:58:29.420192Z",
     "iopub.status.idle": "2022-01-30T10:58:29.926929Z",
     "shell.execute_reply": "2022-01-30T10:58:29.927641Z",
     "shell.execute_reply.started": "2022-01-30T10:53:38.184891Z"
    },
    "papermill": {
     "duration": 0.593008,
     "end_time": "2022-01-30T10:58:29.927817",
     "exception": false,
     "start_time": "2022-01-30T10:58:29.334809",
     "status": "completed"
    },
    "tags": []
   },
   "outputs": [
    {
     "data": {
      "image/png": "[encoded data removed]",
      "text/plain": [
       "<Figure size 432x288 with 2 Axes>"
      ]
     },
     "metadata": {
      "needs_background": "light"
     },
     "output_type": "display_data"
    }
   ],
   "source": [
    "sns.heatmap(df.corr())\n",
    "plt.show()"
   ]
  },
  {
   "cell_type": "markdown",
   "metadata": {
    "papermill": {
     "duration": 0.085088,
     "end_time": "2022-01-30T10:58:30.097881",
     "exception": false,
     "start_time": "2022-01-30T10:58:30.012793",
     "status": "completed"
    },
    "tags": []
   },
   "source": [
    "selling price is negatively correlated with old variable, km_driven as expected, means as number of years increases or km_driven increses sp decreases <br>\n",
    "selling price is positevly correlated with max_power and engine <br>"
   ]
  },
  {
   "cell_type": "code",
   "execution_count": 42,
   "metadata": {
    "execution": {
     "iopub.execute_input": "2022-01-30T10:58:30.270652Z",
     "iopub.status.busy": "2022-01-30T10:58:30.269600Z",
     "iopub.status.idle": "2022-01-30T10:58:30.275298Z",
     "shell.execute_reply": "2022-01-30T10:58:30.275963Z",
     "shell.execute_reply.started": "2022-01-30T10:53:38.703095Z"
    },
    "papermill": {
     "duration": 0.094111,
     "end_time": "2022-01-30T10:58:30.276146",
     "exception": false,
     "start_time": "2022-01-30T10:58:30.182035",
     "status": "completed"
    },
    "tags": []
   },
   "outputs": [],
   "source": [
    "# lets drop car name as it is text \n",
    "\n",
    "df.drop([\"name\"],axis=1,inplace=True)"
   ]
  },
  {
   "cell_type": "code",
   "execution_count": 43,
   "metadata": {
    "execution": {
     "iopub.execute_input": "2022-01-30T10:58:30.448196Z",
     "iopub.status.busy": "2022-01-30T10:58:30.447346Z",
     "iopub.status.idle": "2022-01-30T10:58:30.450104Z",
     "shell.execute_reply": "2022-01-30T10:58:30.450724Z",
     "shell.execute_reply.started": "2022-01-30T10:53:38.710597Z"
    },
    "papermill": {
     "duration": 0.091534,
     "end_time": "2022-01-30T10:58:30.450893",
     "exception": false,
     "start_time": "2022-01-30T10:58:30.359359",
     "status": "completed"
    },
    "tags": []
   },
   "outputs": [],
   "source": [
    "# split the data into X and y\n",
    "\n",
    "y = df.pop(\"selling_price\")\n",
    "X = df"
   ]
  },
  {
   "cell_type": "code",
   "execution_count": 44,
   "metadata": {
    "execution": {
     "iopub.execute_input": "2022-01-30T10:58:30.622497Z",
     "iopub.status.busy": "2022-01-30T10:58:30.621474Z",
     "iopub.status.idle": "2022-01-30T10:58:30.628906Z",
     "shell.execute_reply": "2022-01-30T10:58:30.629495Z",
     "shell.execute_reply.started": "2022-01-30T10:53:38.723296Z"
    },
    "papermill": {
     "duration": 0.095407,
     "end_time": "2022-01-30T10:58:30.629666",
     "exception": false,
     "start_time": "2022-01-30T10:58:30.534259",
     "status": "completed"
    },
    "tags": []
   },
   "outputs": [],
   "source": [
    "# split data into train and test\n",
    "\n",
    "X_train, X_test, y_train, y_test = train_test_split(X,y,test_size=0.3,random_state=1)"
   ]
  },
  {
   "cell_type": "code",
   "execution_count": 45,
   "metadata": {},
   "outputs": [
    {
     "name": "stderr",
     "output_type": "stream",
     "text": [
      "C:\\Users\\jothi\\anaconda3\\lib\\site-packages\\seaborn\\distributions.py:2551: FutureWarning: `distplot` is a deprecated function and will be removed in a future version. Please adapt your code to use either `displot` (a figure-level function with similar flexibility) or `histplot` (an axes-level function for histograms).\n",
      "  warnings.warn(msg, FutureWarning)\n"
     ]
    },
    {
     "data": {
      "image/png": "[encoded data removed]",
      "text/plain": [
       "<Figure size 432x288 with 1 Axes>"
      ]
     },
     "metadata": {
      "needs_background": "light"
     },
     "output_type": "display_data"
    }
   ],
   "source": [
    "sns.distplot(y_train, hist=True, kde=True, bins=40).set_title('Distribution of Sale Price')\n",
    "plt.show()"
   ]
  },
  {
   "cell_type": "code",
   "execution_count": 46,
   "metadata": {},
   "outputs": [],
   "source": [
    "y_train=np.log(y_train)"
   ]
  },
  {
   "cell_type": "code",
   "execution_count": 47,
   "metadata": {},
   "outputs": [
    {
     "name": "stderr",
     "output_type": "stream",
     "text": [
      "C:\\Users\\jothi\\anaconda3\\lib\\site-packages\\seaborn\\distributions.py:2551: FutureWarning: `distplot` is a deprecated function and will be removed in a future version. Please adapt your code to use either `displot` (a figure-level function with similar flexibility) or `histplot` (an axes-level function for histograms).\n",
      "  warnings.warn(msg, FutureWarning)\n"
     ]
    },
    {
     "data": {
      "image/png": "[encoded data removed]",
      "text/plain": [
       "<Figure size 432x288 with 1 Axes>"
      ]
     },
     "metadata": {
      "needs_background": "light"
     },
     "output_type": "display_data"
    }
   ],
   "source": [
    "sns.distplot(y_train, hist=True, kde=True, bins=40).set_title('Distribution of Sale Price')\n",
    "plt.show()"
   ]
  },
  {
   "cell_type": "code",
   "execution_count": 48,
   "metadata": {
    "execution": {
     "iopub.execute_input": "2022-01-30T10:58:31.954019Z",
     "iopub.status.busy": "2022-01-30T10:58:31.952986Z",
     "iopub.status.idle": "2022-01-30T10:58:31.970143Z",
     "shell.execute_reply": "2022-01-30T10:58:31.970694Z",
     "shell.execute_reply.started": "2022-01-30T10:53:39.342168Z"
    },
    "papermill": {
     "duration": 0.107288,
     "end_time": "2022-01-30T10:58:31.970867",
     "exception": false,
     "start_time": "2022-01-30T10:58:31.863579",
     "status": "completed"
    },
    "tags": []
   },
   "outputs": [],
   "source": [
    "# select categorical data and apply get_dummies function on them\n",
    "categorical_df = X_train.select_dtypes(include=['object',\"category\"])\n",
    "dummies = pd.get_dummies(categorical_df, drop_first=True)\n",
    "\n",
    "# drop categories for which we created dummy variables\n",
    "X_train = X_train.drop(list(categorical_df.columns), axis=1)\n",
    "\n",
    "# concat both dummy vars df and original df\n",
    "X_train = pd.concat([X_train,dummies], axis=1)"
   ]
  },
  {
   "cell_type": "code",
   "execution_count": 49,
   "metadata": {
    "execution": {
     "iopub.execute_input": "2022-01-30T10:58:32.147987Z",
     "iopub.status.busy": "2022-01-30T10:58:32.145220Z",
     "iopub.status.idle": "2022-01-30T10:58:32.182104Z",
     "shell.execute_reply": "2022-01-30T10:58:32.181563Z",
     "shell.execute_reply.started": "2022-01-30T10:53:39.365671Z"
    },
    "papermill": {
     "duration": 0.125591,
     "end_time": "2022-01-30T10:58:32.182239",
     "exception": false,
     "start_time": "2022-01-30T10:58:32.056648",
     "status": "completed"
    },
    "tags": []
   },
   "outputs": [
    {
     "data": {
      "text/html": [
       "<div>\n",
       "<style scoped>\n",
       "    .dataframe tbody tr th:only-of-type {\n",
       "        vertical-align: middle;\n",
       "    }\n",
       "\n",
       "    .dataframe tbody tr th {\n",
       "        vertical-align: top;\n",
       "    }\n",
       "\n",
       "    .dataframe thead th {\n",
       "        text-align: right;\n",
       "    }\n",
       "</style>\n",
       "<table border=\"1\" class=\"dataframe\">\n",
       "  <thead>\n",
       "    <tr style=\"text-align: right;\">\n",
       "      <th></th>\n",
       "      <th>km_driven</th>\n",
       "      <th>mileage</th>\n",
       "      <th>engine</th>\n",
       "      <th>max_power</th>\n",
       "      <th>seats</th>\n",
       "      <th>old</th>\n",
       "      <th>fuel_Diesel</th>\n",
       "      <th>fuel_LPG</th>\n",
       "      <th>fuel_Petrol</th>\n",
       "      <th>seller_type_Individual</th>\n",
       "      <th>seller_type_Trustmark Dealer</th>\n",
       "      <th>transmission_Manual</th>\n",
       "      <th>owner_Fourth &amp; Above Owner</th>\n",
       "      <th>owner_Second Owner</th>\n",
       "      <th>owner_Test Drive Car</th>\n",
       "      <th>owner_Third Owner</th>\n",
       "    </tr>\n",
       "  </thead>\n",
       "  <tbody>\n",
       "    <tr>\n",
       "      <th>4868</th>\n",
       "      <td>-0.220865</td>\n",
       "      <td>-1.534467</td>\n",
       "      <td>0.733573</td>\n",
       "      <td>1.164683</td>\n",
       "      <td>-0.443291</td>\n",
       "      <td>1.418576</td>\n",
       "      <td>-1.081550</td>\n",
       "      <td>-0.076086</td>\n",
       "      <td>1.109334</td>\n",
       "      <td>0.336443</td>\n",
       "      <td>-0.063771</td>\n",
       "      <td>0.299015</td>\n",
       "      <td>-0.15351</td>\n",
       "      <td>1.596374</td>\n",
       "      <td>-0.020653</td>\n",
       "      <td>-0.279984</td>\n",
       "    </tr>\n",
       "    <tr>\n",
       "      <th>5967</th>\n",
       "      <td>-0.542044</td>\n",
       "      <td>0.824921</td>\n",
       "      <td>-1.284290</td>\n",
       "      <td>-1.271397</td>\n",
       "      <td>-0.443291</td>\n",
       "      <td>-0.370210</td>\n",
       "      <td>-1.081550</td>\n",
       "      <td>-0.076086</td>\n",
       "      <td>1.109334</td>\n",
       "      <td>0.336443</td>\n",
       "      <td>-0.063771</td>\n",
       "      <td>0.299015</td>\n",
       "      <td>-0.15351</td>\n",
       "      <td>-0.626419</td>\n",
       "      <td>-0.020653</td>\n",
       "      <td>-0.279984</td>\n",
       "    </tr>\n",
       "    <tr>\n",
       "      <th>2512</th>\n",
       "      <td>0.742672</td>\n",
       "      <td>0.132766</td>\n",
       "      <td>-0.065080</td>\n",
       "      <td>-0.622403</td>\n",
       "      <td>-0.443291</td>\n",
       "      <td>0.907494</td>\n",
       "      <td>0.924599</td>\n",
       "      <td>-0.076086</td>\n",
       "      <td>-0.901441</td>\n",
       "      <td>0.336443</td>\n",
       "      <td>-0.063771</td>\n",
       "      <td>0.299015</td>\n",
       "      <td>-0.15351</td>\n",
       "      <td>-0.626419</td>\n",
       "      <td>-0.020653</td>\n",
       "      <td>-0.279984</td>\n",
       "    </tr>\n",
       "    <tr>\n",
       "      <th>6869</th>\n",
       "      <td>-1.104107</td>\n",
       "      <td>1.438766</td>\n",
       "      <td>-1.278224</td>\n",
       "      <td>-1.083282</td>\n",
       "      <td>-0.443291</td>\n",
       "      <td>-0.881292</td>\n",
       "      <td>-1.081550</td>\n",
       "      <td>-0.076086</td>\n",
       "      <td>1.109334</td>\n",
       "      <td>0.336443</td>\n",
       "      <td>-0.063771</td>\n",
       "      <td>0.299015</td>\n",
       "      <td>-0.15351</td>\n",
       "      <td>-0.626419</td>\n",
       "      <td>-0.020653</td>\n",
       "      <td>-0.279984</td>\n",
       "    </tr>\n",
       "    <tr>\n",
       "      <th>4556</th>\n",
       "      <td>-0.220865</td>\n",
       "      <td>1.117950</td>\n",
       "      <td>-1.632058</td>\n",
       "      <td>-1.579277</td>\n",
       "      <td>-1.465649</td>\n",
       "      <td>-0.370210</td>\n",
       "      <td>-1.081550</td>\n",
       "      <td>-0.076086</td>\n",
       "      <td>1.109334</td>\n",
       "      <td>0.336443</td>\n",
       "      <td>-0.063771</td>\n",
       "      <td>0.299015</td>\n",
       "      <td>-0.15351</td>\n",
       "      <td>-0.626419</td>\n",
       "      <td>-0.020653</td>\n",
       "      <td>-0.279984</td>\n",
       "    </tr>\n",
       "  </tbody>\n",
       "</table>\n",
       "</div>"
      ],
      "text/plain": [
       "      km_driven   mileage    engine  max_power     seats       old  \\\n",
       "4868  -0.220865 -1.534467  0.733573   1.164683 -0.443291  1.418576   \n",
       "5967  -0.542044  0.824921 -1.284290  -1.271397 -0.443291 -0.370210   \n",
       "2512   0.742672  0.132766 -0.065080  -0.622403 -0.443291  0.907494   \n",
       "6869  -1.104107  1.438766 -1.278224  -1.083282 -0.443291 -0.881292   \n",
       "4556  -0.220865  1.117950 -1.632058  -1.579277 -1.465649 -0.370210   \n",
       "\n",
       "      fuel_Diesel  fuel_LPG  fuel_Petrol  seller_type_Individual  \\\n",
       "4868    -1.081550 -0.076086     1.109334                0.336443   \n",
       "5967    -1.081550 -0.076086     1.109334                0.336443   \n",
       "2512     0.924599 -0.076086    -0.901441                0.336443   \n",
       "6869    -1.081550 -0.076086     1.109334                0.336443   \n",
       "4556    -1.081550 -0.076086     1.109334                0.336443   \n",
       "\n",
       "      seller_type_Trustmark Dealer  transmission_Manual  \\\n",
       "4868                     -0.063771             0.299015   \n",
       "5967                     -0.063771             0.299015   \n",
       "2512                     -0.063771             0.299015   \n",
       "6869                     -0.063771             0.299015   \n",
       "4556                     -0.063771             0.299015   \n",
       "\n",
       "      owner_Fourth & Above Owner  owner_Second Owner  owner_Test Drive Car  \\\n",
       "4868                    -0.15351            1.596374             -0.020653   \n",
       "5967                    -0.15351           -0.626419             -0.020653   \n",
       "2512                    -0.15351           -0.626419             -0.020653   \n",
       "6869                    -0.15351           -0.626419             -0.020653   \n",
       "4556                    -0.15351           -0.626419             -0.020653   \n",
       "\n",
       "      owner_Third Owner  \n",
       "4868          -0.279984  \n",
       "5967          -0.279984  \n",
       "2512          -0.279984  \n",
       "6869          -0.279984  \n",
       "4556          -0.279984  "
      ]
     },
     "execution_count": 49,
     "metadata": {},
     "output_type": "execute_result"
    }
   ],
   "source": [
    "# Apply min max scaling to bring down the values to range from 0-1\n",
    "scaler = StandardScaler()\n",
    "X_train = pd.DataFrame(scaler.fit_transform(X_train),columns = X_train.columns,index=X_train.index)\n",
    "X_train.head()"
   ]
  },
  {
   "cell_type": "code",
   "execution_count": 50,
   "metadata": {
    "execution": {
     "iopub.execute_input": "2022-01-30T10:58:32.358293Z",
     "iopub.status.busy": "2022-01-30T10:58:32.357262Z",
     "iopub.status.idle": "2022-01-30T10:58:32.383218Z",
     "shell.execute_reply": "2022-01-30T10:58:32.384292Z",
     "shell.execute_reply.started": "2022-01-30T10:53:39.405939Z"
    },
    "papermill": {
     "duration": 0.116601,
     "end_time": "2022-01-30T10:58:32.384608",
     "exception": false,
     "start_time": "2022-01-30T10:58:32.268007",
     "status": "completed"
    },
    "tags": []
   },
   "outputs": [
    {
     "data": {
      "text/plain": [
       "LinearRegression()"
      ]
     },
     "execution_count": 50,
     "metadata": {},
     "output_type": "execute_result"
    }
   ],
   "source": [
    "reg = LinearRegression() \n",
    "reg.fit(X_train,y_train)"
   ]
  },
  {
   "cell_type": "code",
   "execution_count": 51,
   "metadata": {
    "execution": {
     "iopub.execute_input": "2022-01-30T10:58:32.614951Z",
     "iopub.status.busy": "2022-01-30T10:58:32.613979Z",
     "iopub.status.idle": "2022-01-30T10:58:32.622211Z",
     "shell.execute_reply": "2022-01-30T10:58:32.622982Z",
     "shell.execute_reply.started": "2022-01-30T10:53:39.434848Z"
    },
    "papermill": {
     "duration": 0.101641,
     "end_time": "2022-01-30T10:58:32.623252",
     "exception": false,
     "start_time": "2022-01-30T10:58:32.521611",
     "status": "completed"
    },
    "tags": []
   },
   "outputs": [],
   "source": [
    "y_pred_train = reg.predict(X_train)"
   ]
  },
  {
   "cell_type": "code",
   "execution_count": 52,
   "metadata": {
    "execution": {
     "iopub.execute_input": "2022-01-30T10:58:32.863288Z",
     "iopub.status.busy": "2022-01-30T10:58:32.860124Z",
     "iopub.status.idle": "2022-01-30T10:58:32.869518Z",
     "shell.execute_reply": "2022-01-30T10:58:32.870531Z",
     "shell.execute_reply.started": "2022-01-30T10:53:39.446945Z"
    },
    "papermill": {
     "duration": 0.100294,
     "end_time": "2022-01-30T10:58:32.870855",
     "exception": false,
     "start_time": "2022-01-30T10:58:32.770561",
     "status": "completed"
    },
    "tags": []
   },
   "outputs": [
    {
     "name": "stdout",
     "output_type": "stream",
     "text": [
      "0.8483545829035097\n",
      "0.08643394528403037\n"
     ]
    }
   ],
   "source": [
    "# lets see the metrics\n",
    "\n",
    "r2_train_lr = r2_score(y_train, y_pred_train)\n",
    "print(r2_train_lr)\n",
    "\n",
    "mse_train_lr = mean_squared_error(y_train, y_pred_train)\n",
    "print(mse_train_lr)"
   ]
  },
  {
   "cell_type": "code",
   "execution_count": 53,
   "metadata": {
    "execution": {
     "iopub.execute_input": "2022-01-30T10:58:33.053043Z",
     "iopub.status.busy": "2022-01-30T10:58:33.052351Z",
     "iopub.status.idle": "2022-01-30T10:58:33.097792Z",
     "shell.execute_reply": "2022-01-30T10:58:33.098366Z",
     "shell.execute_reply.started": "2022-01-30T10:53:39.469984Z"
    },
    "papermill": {
     "duration": 0.137242,
     "end_time": "2022-01-30T10:58:33.098572",
     "exception": false,
     "start_time": "2022-01-30T10:58:32.961330",
     "status": "completed"
    },
    "tags": []
   },
   "outputs": [
    {
     "data": {
      "text/html": [
       "<div>\n",
       "<style scoped>\n",
       "    .dataframe tbody tr th:only-of-type {\n",
       "        vertical-align: middle;\n",
       "    }\n",
       "\n",
       "    .dataframe tbody tr th {\n",
       "        vertical-align: top;\n",
       "    }\n",
       "\n",
       "    .dataframe thead th {\n",
       "        text-align: right;\n",
       "    }\n",
       "</style>\n",
       "<table border=\"1\" class=\"dataframe\">\n",
       "  <thead>\n",
       "    <tr style=\"text-align: right;\">\n",
       "      <th></th>\n",
       "      <th>km_driven</th>\n",
       "      <th>mileage</th>\n",
       "      <th>engine</th>\n",
       "      <th>max_power</th>\n",
       "      <th>seats</th>\n",
       "      <th>old</th>\n",
       "      <th>fuel_Diesel</th>\n",
       "      <th>fuel_LPG</th>\n",
       "      <th>fuel_Petrol</th>\n",
       "      <th>seller_type_Individual</th>\n",
       "      <th>seller_type_Trustmark Dealer</th>\n",
       "      <th>transmission_Manual</th>\n",
       "      <th>owner_Fourth &amp; Above Owner</th>\n",
       "      <th>owner_Second Owner</th>\n",
       "      <th>owner_Test Drive Car</th>\n",
       "      <th>owner_Third Owner</th>\n",
       "    </tr>\n",
       "  </thead>\n",
       "  <tbody>\n",
       "    <tr>\n",
       "      <th>2844</th>\n",
       "      <td>0.501787</td>\n",
       "      <td>0.991644</td>\n",
       "      <td>-0.370388</td>\n",
       "      <td>-0.434288</td>\n",
       "      <td>-0.443291</td>\n",
       "      <td>0.140872</td>\n",
       "      <td>0.924599</td>\n",
       "      <td>-0.076086</td>\n",
       "      <td>-0.901441</td>\n",
       "      <td>0.336443</td>\n",
       "      <td>-0.063771</td>\n",
       "      <td>0.299015</td>\n",
       "      <td>-0.15351</td>\n",
       "      <td>-0.626419</td>\n",
       "      <td>-0.020653</td>\n",
       "      <td>3.571638</td>\n",
       "    </tr>\n",
       "    <tr>\n",
       "      <th>1691</th>\n",
       "      <td>-1.104107</td>\n",
       "      <td>0.291911</td>\n",
       "      <td>-0.471483</td>\n",
       "      <td>-0.653755</td>\n",
       "      <td>-0.443291</td>\n",
       "      <td>-1.136833</td>\n",
       "      <td>-1.081550</td>\n",
       "      <td>-0.076086</td>\n",
       "      <td>1.109334</td>\n",
       "      <td>0.336443</td>\n",
       "      <td>-0.063771</td>\n",
       "      <td>0.299015</td>\n",
       "      <td>-0.15351</td>\n",
       "      <td>1.596374</td>\n",
       "      <td>-0.020653</td>\n",
       "      <td>-0.279984</td>\n",
       "    </tr>\n",
       "    <tr>\n",
       "      <th>2939</th>\n",
       "      <td>-1.023813</td>\n",
       "      <td>-1.036823</td>\n",
       "      <td>-0.475527</td>\n",
       "      <td>-0.465641</td>\n",
       "      <td>-0.443291</td>\n",
       "      <td>-0.881292</td>\n",
       "      <td>-1.081550</td>\n",
       "      <td>-0.076086</td>\n",
       "      <td>1.109334</td>\n",
       "      <td>0.336443</td>\n",
       "      <td>-0.063771</td>\n",
       "      <td>0.299015</td>\n",
       "      <td>-0.15351</td>\n",
       "      <td>-0.626419</td>\n",
       "      <td>-0.020653</td>\n",
       "      <td>-0.279984</td>\n",
       "    </tr>\n",
       "    <tr>\n",
       "      <th>675</th>\n",
       "      <td>0.100314</td>\n",
       "      <td>-0.094583</td>\n",
       "      <td>-0.473505</td>\n",
       "      <td>-0.183469</td>\n",
       "      <td>-0.443291</td>\n",
       "      <td>-0.625751</td>\n",
       "      <td>-1.081550</td>\n",
       "      <td>-0.076086</td>\n",
       "      <td>1.109334</td>\n",
       "      <td>0.336443</td>\n",
       "      <td>-0.063771</td>\n",
       "      <td>0.299015</td>\n",
       "      <td>-0.15351</td>\n",
       "      <td>1.596374</td>\n",
       "      <td>-0.020653</td>\n",
       "      <td>-0.279984</td>\n",
       "    </tr>\n",
       "    <tr>\n",
       "      <th>3701</th>\n",
       "      <td>-0.060276</td>\n",
       "      <td>-0.220889</td>\n",
       "      <td>-0.473505</td>\n",
       "      <td>-0.064330</td>\n",
       "      <td>-0.443291</td>\n",
       "      <td>0.396412</td>\n",
       "      <td>-1.081550</td>\n",
       "      <td>-0.076086</td>\n",
       "      <td>1.109334</td>\n",
       "      <td>0.336443</td>\n",
       "      <td>-0.063771</td>\n",
       "      <td>0.299015</td>\n",
       "      <td>-0.15351</td>\n",
       "      <td>1.596374</td>\n",
       "      <td>-0.020653</td>\n",
       "      <td>-0.279984</td>\n",
       "    </tr>\n",
       "  </tbody>\n",
       "</table>\n",
       "</div>"
      ],
      "text/plain": [
       "      km_driven   mileage    engine  max_power     seats       old  \\\n",
       "2844   0.501787  0.991644 -0.370388  -0.434288 -0.443291  0.140872   \n",
       "1691  -1.104107  0.291911 -0.471483  -0.653755 -0.443291 -1.136833   \n",
       "2939  -1.023813 -1.036823 -0.475527  -0.465641 -0.443291 -0.881292   \n",
       "675    0.100314 -0.094583 -0.473505  -0.183469 -0.443291 -0.625751   \n",
       "3701  -0.060276 -0.220889 -0.473505  -0.064330 -0.443291  0.396412   \n",
       "\n",
       "      fuel_Diesel  fuel_LPG  fuel_Petrol  seller_type_Individual  \\\n",
       "2844     0.924599 -0.076086    -0.901441                0.336443   \n",
       "1691    -1.081550 -0.076086     1.109334                0.336443   \n",
       "2939    -1.081550 -0.076086     1.109334                0.336443   \n",
       "675     -1.081550 -0.076086     1.109334                0.336443   \n",
       "3701    -1.081550 -0.076086     1.109334                0.336443   \n",
       "\n",
       "      seller_type_Trustmark Dealer  transmission_Manual  \\\n",
       "2844                     -0.063771             0.299015   \n",
       "1691                     -0.063771             0.299015   \n",
       "2939                     -0.063771             0.299015   \n",
       "675                      -0.063771             0.299015   \n",
       "3701                     -0.063771             0.299015   \n",
       "\n",
       "      owner_Fourth & Above Owner  owner_Second Owner  owner_Test Drive Car  \\\n",
       "2844                    -0.15351           -0.626419             -0.020653   \n",
       "1691                    -0.15351            1.596374             -0.020653   \n",
       "2939                    -0.15351           -0.626419             -0.020653   \n",
       "675                     -0.15351            1.596374             -0.020653   \n",
       "3701                    -0.15351            1.596374             -0.020653   \n",
       "\n",
       "      owner_Third Owner  \n",
       "2844           3.571638  \n",
       "1691          -0.279984  \n",
       "2939          -0.279984  \n",
       "675           -0.279984  \n",
       "3701          -0.279984  "
      ]
     },
     "execution_count": 53,
     "metadata": {},
     "output_type": "execute_result"
    }
   ],
   "source": [
    "# Apply same steps on test data as performed for training data\n",
    "y_test=np.log(y_test)\n",
    "# apply log transformation on y_train\n",
    "\n",
    "# select categorical data and apply get_dummies function on them\n",
    "categorical_df = X_test.select_dtypes(include=['object',\"category\"])\n",
    "dummies = pd.get_dummies(categorical_df, drop_first=True)\n",
    "\n",
    "# drop categories for which we created dummy variables\n",
    "X_test = X_test.drop(list(categorical_df.columns), axis=1)\n",
    "\n",
    "# concat both dummy vars df and original df\n",
    "X_test = pd.concat([X_test,dummies], axis=1)\n",
    "\n",
    "# Apply min max scaling to bring down the values to range from 0-1\n",
    "X_test = pd.DataFrame(scaler.transform(X_test),columns = X_test.columns,index=X_test.index)\n",
    "X_test.head()"
   ]
  },
  {
   "cell_type": "code",
   "execution_count": 54,
   "metadata": {
    "execution": {
     "iopub.execute_input": "2022-01-30T10:58:33.277386Z",
     "iopub.status.busy": "2022-01-30T10:58:33.276779Z",
     "iopub.status.idle": "2022-01-30T10:58:33.288461Z",
     "shell.execute_reply": "2022-01-30T10:58:33.289639Z",
     "shell.execute_reply.started": "2022-01-30T10:53:39.578981Z"
    },
    "papermill": {
     "duration": 0.103283,
     "end_time": "2022-01-30T10:58:33.289938",
     "exception": false,
     "start_time": "2022-01-30T10:58:33.186655",
     "status": "completed"
    },
    "tags": []
   },
   "outputs": [],
   "source": [
    "y_pred_test = reg.predict(X_test)"
   ]
  },
  {
   "cell_type": "code",
   "execution_count": 55,
   "metadata": {
    "execution": {
     "iopub.execute_input": "2022-01-30T10:58:33.527393Z",
     "iopub.status.busy": "2022-01-30T10:58:33.526747Z",
     "iopub.status.idle": "2022-01-30T10:58:33.534686Z",
     "shell.execute_reply": "2022-01-30T10:58:33.533556Z",
     "shell.execute_reply.started": "2022-01-30T10:53:39.587299Z"
    },
    "papermill": {
     "duration": 0.102442,
     "end_time": "2022-01-30T10:58:33.534928",
     "exception": false,
     "start_time": "2022-01-30T10:58:33.432486",
     "status": "completed"
    },
    "tags": []
   },
   "outputs": [
    {
     "name": "stdout",
     "output_type": "stream",
     "text": [
      "0.8313518193268636\n",
      "0.09125037716365741\n"
     ]
    }
   ],
   "source": [
    "# lets see the metrics\n",
    "r2_test_lr = r2_score(y_test, y_pred_test)\n",
    "print(r2_test_lr)\n",
    "\n",
    "mse_test_lr = mean_squared_error(y_test, y_pred_test)\n",
    "print(mse_test_lr)\n"
   ]
  },
  {
   "cell_type": "markdown",
   "metadata": {
    "papermill": {
     "duration": 0.088227,
     "end_time": "2022-01-30T10:58:33.715257",
     "exception": false,
     "start_time": "2022-01-30T10:58:33.627030",
     "status": "completed"
    },
    "tags": []
   },
   "source": [
    "we got 84.9% accuacy on train data and 83.2% accuracy on test data which is quite good"
   ]
  },
  {
   "cell_type": "code",
   "execution_count": 56,
   "metadata": {},
   "outputs": [
    {
     "data": {
      "text/plain": [
       "array([12.64079496, 12.99329237, 12.93838788, ..., 12.88269432,\n",
       "       12.5333572 , 13.25936326])"
      ]
     },
     "execution_count": 56,
     "metadata": {},
     "output_type": "execute_result"
    }
   ],
   "source": [
    "y_pred_test"
   ]
  },
  {
   "cell_type": "code",
   "execution_count": 57,
   "metadata": {},
   "outputs": [
    {
     "data": {
      "text/plain": [
       "Index(['km_driven', 'mileage', 'engine', 'max_power', 'seats', 'old',\n",
       "       'fuel_Diesel', 'fuel_LPG', 'fuel_Petrol', 'seller_type_Individual',\n",
       "       'seller_type_Trustmark Dealer', 'transmission_Manual',\n",
       "       'owner_Fourth & Above Owner', 'owner_Second Owner',\n",
       "       'owner_Test Drive Car', 'owner_Third Owner'],\n",
       "      dtype='object')"
      ]
     },
     "execution_count": 57,
     "metadata": {},
     "output_type": "execute_result"
    }
   ],
   "source": [
    "X_train.columns"
   ]
  },
  {
   "cell_type": "code",
   "execution_count": 58,
   "metadata": {},
   "outputs": [
    {
     "data": {
      "text/plain": [
       "(4691, 16)"
      ]
     },
     "execution_count": 58,
     "metadata": {},
     "output_type": "execute_result"
    }
   ],
   "source": [
    "X_train.shape"
   ]
  },
  {
   "cell_type": "code",
   "execution_count": 59,
   "metadata": {},
   "outputs": [],
   "source": [
    "import pickle\n",
    "Pkl_Filename = \"bcp.pkl\"  \n",
    "pickle.dump(reg, open(Pkl_Filename, 'wb'))"
   ]
  },
  {
   "cell_type": "code",
   "execution_count": 60,
   "metadata": {},
   "outputs": [
    {
     "data": {
      "text/plain": [
       "LinearRegression()"
      ]
     },
     "execution_count": 60,
     "metadata": {},
     "output_type": "execute_result"
    }
   ],
   "source": [
    "with open(Pkl_Filename, 'rb') as file:  \n",
    "    Pickled_LR_Model = pickle.load(file)\n",
    "\n",
    "Pickled_LR_Model"
   ]
  },
  {
   "cell_type": "code",
   "execution_count": 61,
   "metadata": {},
   "outputs": [
    {
     "name": "stdout",
     "output_type": "stream",
     "text": [
      "Test score: 83.14 %\n"
     ]
    },
    {
     "data": {
      "text/plain": [
       "array([12.64079496, 12.99329237, 12.93838788, ..., 12.88269432,\n",
       "       12.5333572 , 13.25936326])"
      ]
     },
     "execution_count": 61,
     "metadata": {},
     "output_type": "execute_result"
    }
   ],
   "source": [
    "score = Pickled_LR_Model.score(X_test, y_test)  \n",
    "# Print the Score\n",
    "print(\"Test score: {0:.2f} %\".format(100 * score))  \n",
    "\n",
    "# Predict the Labels using the reloaded Model\n",
    "Ypredict = Pickled_LR_Model.predict(X_test)  \n",
    "\n",
    "Ypredict"
   ]
  },
  {
   "cell_type": "code",
   "execution_count": 62,
   "metadata": {},
   "outputs": [],
   "source": [
    "PklFilename = \"ssc.pkl\"  \n",
    "pickle.dump(scaler, open(PklFilename, 'wb'))"
   ]
  },
  {
   "cell_type": "code",
   "execution_count": 63,
   "metadata": {},
   "outputs": [
    {
     "name": "stdout",
     "output_type": "stream",
     "text": [
      "StandardScaler()\n"
     ]
    }
   ],
   "source": [
    "with open(PklFilename, 'rb') as file:  \n",
    "    PickledModel = pickle.load(file)\n",
    "\n",
    "print(PickledModel)"
   ]
  },
  {
   "cell_type": "code",
   "execution_count": 64,
   "metadata": {},
   "outputs": [
    {
     "name": "stdout",
     "output_type": "stream",
     "text": [
      "4868    11.918391\n",
      "5967    12.506177\n",
      "2512    12.206073\n",
      "6869    12.560244\n",
      "4556    11.289782\n",
      "          ...    \n",
      "988     13.910821\n",
      "6239    13.592367\n",
      "4721    13.527828\n",
      "244     13.458836\n",
      "6196    12.332705\n",
      "Name: selling_price, Length: 4691, dtype: float64\n"
     ]
    }
   ],
   "source": [
    "print(y_train)"
   ]
  },
  {
   "cell_type": "code",
   "execution_count": 65,
   "metadata": {},
   "outputs": [],
   "source": [
    "from sklearn.tree import DecisionTreeRegressor\n",
    "dt=DecisionTreeRegressor()"
   ]
  },
  {
   "cell_type": "code",
   "execution_count": 66,
   "metadata": {},
   "outputs": [
    {
     "data": {
      "text/plain": [
       "DecisionTreeRegressor()"
      ]
     },
     "execution_count": 66,
     "metadata": {},
     "output_type": "execute_result"
    }
   ],
   "source": [
    "dt.fit(X_train,y_train)"
   ]
  },
  {
   "cell_type": "code",
   "execution_count": 67,
   "metadata": {},
   "outputs": [],
   "source": [
    "y_pred_train1 = dt.predict(X_train)"
   ]
  },
  {
   "cell_type": "code",
   "execution_count": 68,
   "metadata": {},
   "outputs": [
    {
     "name": "stdout",
     "output_type": "stream",
     "text": [
      "0.998066790351064\n",
      "0.0011018792405204799\n"
     ]
    }
   ],
   "source": [
    "r2_train_lr = r2_score(y_train, y_pred_train1)\n",
    "print(r2_train_lr)\n",
    "\n",
    "mse_train_lr = mean_squared_error(y_train, y_pred_train1)\n",
    "print(mse_train_lr)"
   ]
  },
  {
   "cell_type": "code",
   "execution_count": 69,
   "metadata": {},
   "outputs": [],
   "source": [
    "y_pred_test1 = dt.predict(X_test)"
   ]
  },
  {
   "cell_type": "code",
   "execution_count": 70,
   "metadata": {},
   "outputs": [
    {
     "name": "stdout",
     "output_type": "stream",
     "text": [
      "0.8393871786609937\n",
      "0.08690268976520286\n"
     ]
    }
   ],
   "source": [
    "r2_test_lr = r2_score(y_test, y_pred_test1)\n",
    "print(r2_test_lr)\n",
    "\n",
    "mse_test_lr = mean_squared_error(y_test, y_pred_test1)\n",
    "print(mse_test_lr)\n"
   ]
  },
  {
   "cell_type": "code",
   "execution_count": 71,
   "metadata": {},
   "outputs": [],
   "source": [
    "from sklearn.ensemble import RandomForestRegressor\n",
    "rf=RandomForestRegressor()"
   ]
  },
  {
   "cell_type": "code",
   "execution_count": 72,
   "metadata": {},
   "outputs": [
    {
     "data": {
      "text/plain": [
       "RandomForestRegressor()"
      ]
     },
     "execution_count": 72,
     "metadata": {},
     "output_type": "execute_result"
    }
   ],
   "source": [
    "rf.fit(X_train,y_train)"
   ]
  },
  {
   "cell_type": "code",
   "execution_count": 73,
   "metadata": {},
   "outputs": [],
   "source": [
    "y_pred_train2 = rf.predict(X_train)"
   ]
  },
  {
   "cell_type": "code",
   "execution_count": 74,
   "metadata": {},
   "outputs": [
    {
     "name": "stdout",
     "output_type": "stream",
     "text": [
      "0.985708388637184\n",
      "0.00814584692505586\n"
     ]
    }
   ],
   "source": [
    "r2_train_lr = r2_score(y_train, y_pred_train2)\n",
    "print(r2_train_lr)\n",
    "\n",
    "mse_train_lr = mean_squared_error(y_train, y_pred_train2)\n",
    "print(mse_train_lr)"
   ]
  },
  {
   "cell_type": "code",
   "execution_count": 75,
   "metadata": {},
   "outputs": [],
   "source": [
    "y_pred_test2 = rf.predict(X_test)"
   ]
  },
  {
   "cell_type": "code",
   "execution_count": 76,
   "metadata": {},
   "outputs": [
    {
     "name": "stdout",
     "output_type": "stream",
     "text": [
      "0.9066434494481621\n",
      "0.050512376798561\n"
     ]
    }
   ],
   "source": [
    "r2_test_lr = r2_score(y_test, y_pred_test2)\n",
    "print(r2_test_lr)\n",
    "\n",
    "mse_test_lr = mean_squared_error(y_test, y_pred_test2)\n",
    "print(mse_test_lr)"
   ]
  }
 ],
 "metadata": {
  "kernelspec": {
   "display_name": "Python 3",
   "language": "python",
   "name": "python3"
  },
  "language_info": {
   "codemirror_mode": {
    "name": "ipython",
    "version": 3
   },
   "file_extension": ".py",
   "mimetype": "text/x-python",
   "name": "python",
   "nbconvert_exporter": "python",
   "pygments_lexer": "ipython3",
   "version": "3.8.5"
  },
  "papermill": {
   "default_parameters": {},
   "duration": 36.156132,
   "end_time": "2022-01-30T10:58:35.924022",
   "environment_variables": {},
   "exception": null,
   "input_path": "__notebook__.ipynb",
   "output_path": "__notebook__.ipynb",
   "parameters": {},
   "start_time": "2022-01-30T10:57:59.767890",
   "version": "2.3.3"
  }
 },
 "nbformat": 4,
 "nbformat_minor": 5
}
